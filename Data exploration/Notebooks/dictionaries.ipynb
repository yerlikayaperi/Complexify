{
 "cells": [
  {
   "cell_type": "markdown",
   "metadata": {},
   "source": [
    "# Complex/Ligand dictionaries"
   ]
  },
  {
   "cell_type": "markdown",
   "metadata": {},
   "source": [
    "In the database of complexes, neither metals nor coordinated ligands are explicitely given. We are going to combine all the data we have into a singular dataframe for easier access."
   ]
  },
  {
   "cell_type": "code",
   "execution_count": 1,
   "metadata": {},
   "outputs": [],
   "source": [
    "import numpy as np\n",
    "import pandas as pd\n",
    "import json"
   ]
  },
  {
   "cell_type": "markdown",
   "metadata": {},
   "source": [
    "First, we create a dictionary wih keys being metals and objects being the complexes in which they appear. "
   ]
  },
  {
   "cell_type": "code",
   "execution_count": 75,
   "metadata": {},
   "outputs": [],
   "source": [
    "df_ligands1= pd.read_csv('ligands_misc_info.csv',sep=';')\n",
    "df_ligands1=df_ligands1[['name',\"parent_metal_occurrences\"]]\n",
    "df_complex=pd.read_csv('Separate complex info.csv')\n",
    "df_ligands=pd.read_csv('Separate ligands info.csv')\n",
    "metal_complex={}\n",
    "for string in df_ligands1['parent_metal_occurrences']:\n",
    "    acceptable_string=string.replace(\"'\", \"\\\"\")\n",
    "    dico= json.loads(acceptable_string)\n",
    "    for k in list(dico.keys()):\n",
    "        metal_complex[f\"{k}\"] = []\n",
    "for string in df_ligands1['parent_metal_occurrences']:\n",
    "    acceptable_string=string.replace(\"'\", \"\\\"\")\n",
    "    dico= json.loads(acceptable_string)\n",
    "    for i, (k,o) in enumerate(dico.items()):\n",
    "        for j in o:\n",
    "            metal_complex[f\"{k}\"].append(j[:6])"
   ]
  },
  {
   "cell_type": "code",
   "execution_count": 17,
   "metadata": {},
   "outputs": [],
   "source": [
    "df_complex[\"Metals\"] = [[] for _ in range(len(df_complex))]\n",
    "\n",
    "for j, id_value in enumerate(df_complex['id']):\n",
    "    for ligand,metal_list in metal_complex.items():\n",
    "        if id_value in metal_list:\n",
    "            df_complex[\"Metals\"][j].append(ligand)"
   ]
  },
  {
   "cell_type": "markdown",
   "metadata": {},
   "source": [
    "Save our dataframe that now indicates the metals in the complexes."
   ]
  },
  {
   "cell_type": "code",
   "execution_count": 80,
   "metadata": {},
   "outputs": [],
   "source": [
    "pd.DataFrame.to_csv(df_complex, 'Separate complex info.csv')"
   ]
  },
  {
   "cell_type": "markdown",
   "metadata": {},
   "source": [
    "The different databases do not all have the same complexes, so there can be missing data. We look at the number of complexes with missing information."
   ]
  },
  {
   "cell_type": "code",
   "execution_count": 24,
   "metadata": {},
   "outputs": [
    {
     "name": "stdout",
     "output_type": "stream",
     "text": [
      "3754\n"
     ]
    }
   ],
   "source": [
    "j=0\n",
    "for i in range(0, len(df_complex)):\n",
    "    if df_complex[\"Metals\"][i]==[]:\n",
    "        j+=1\n",
    "print(j)"
   ]
  },
  {
   "cell_type": "markdown",
   "metadata": {},
   "source": [
    "Out of around 60 000 complexes. It is satisfactory enough."
   ]
  },
  {
   "cell_type": "markdown",
   "metadata": {},
   "source": [
    "We create a list with all complexes to go through them in an easy way."
   ]
  },
  {
   "cell_type": "code",
   "execution_count": 50,
   "metadata": {},
   "outputs": [],
   "source": [
    "tot_complex = []\n",
    "for j, complex in enumerate(df_complex['id']):\n",
    "    tot_complex.append(complex)"
   ]
  },
  {
   "cell_type": "code",
   "execution_count": 106,
   "metadata": {},
   "outputs": [],
   "source": [
    "df_complex[\"Ligands and number of occurance\"]=[{} for _ in range(len(df_complex))]\n",
    "df_ligands[\"Complex in which they appear and number of appearances\"]=[{} for _ in range(len(df_ligands))]"
   ]
  },
  {
   "cell_type": "markdown",
   "metadata": {},
   "source": [
    "Using vectorized operations makes the code faster. Here, we want to add to the ligand dataframe which complexes they appear in and their number of appearance."
   ]
  },
  {
   "cell_type": "code",
   "execution_count": 66,
   "metadata": {},
   "outputs": [],
   "source": [
    "for complex in tot_complex:\n",
    "    mask=df_ligands1['parent_metal_occurrences'].str.contains(complex)\n",
    "    counts=df_ligands1.loc[mask,\"parent_metal_occurrences\"].str.count(complex)\n",
    "    df_ligands.loc[mask,\"Complex in which they appear and number of appearances\"]=df_ligands.loc[mask,\"Complex in which they appear and number of appearances\"].apply(lambda x:{**x, f\"{complex}\":counts.iloc[0]})"
   ]
  },
  {
   "cell_type": "markdown",
   "metadata": {},
   "source": [
    "We want to see if it works."
   ]
  },
  {
   "cell_type": "code",
   "execution_count": 94,
   "metadata": {},
   "outputs": [
    {
     "data": {
      "text/html": [
       "<div>\n",
       "<style scoped>\n",
       "    .dataframe tbody tr th:only-of-type {\n",
       "        vertical-align: middle;\n",
       "    }\n",
       "\n",
       "    .dataframe tbody tr th {\n",
       "        vertical-align: top;\n",
       "    }\n",
       "\n",
       "    .dataframe thead th {\n",
       "        text-align: right;\n",
       "    }\n",
       "</style>\n",
       "<table border=\"1\" class=\"dataframe\">\n",
       "  <thead>\n",
       "    <tr style=\"text-align: right;\">\n",
       "      <th></th>\n",
       "      <th>Unnamed: 0</th>\n",
       "      <th>ID</th>\n",
       "      <th>Smiles</th>\n",
       "      <th>Stoichiometry</th>\n",
       "      <th>Charge</th>\n",
       "      <th>Nb atoms</th>\n",
       "      <th>Complex in which they appear and number of appearances</th>\n",
       "    </tr>\n",
       "  </thead>\n",
       "  <tbody>\n",
       "    <tr>\n",
       "      <th>0</th>\n",
       "      <td>0</td>\n",
       "      <td>ligand0-0</td>\n",
       "      <td>N1(C([H])([H])c2c3c(c([H])c(c(c3[H])[H])[H])c(...</td>\n",
       "      <td>C20H18N2</td>\n",
       "      <td>0</td>\n",
       "      <td>40</td>\n",
       "      <td>{'IRIXOW': 2, 'UKEBAN': 2, 'IRIXUC': 2, 'IRIYA...</td>\n",
       "    </tr>\n",
       "    <tr>\n",
       "      <th>1</th>\n",
       "      <td>1</td>\n",
       "      <td>ligand1-0</td>\n",
       "      <td>[Cl]</td>\n",
       "      <td>Cl</td>\n",
       "      <td>-1</td>\n",
       "      <td>1</td>\n",
       "      <td>{'WAWJEM': 1, 'KUVSUP': 1, 'WURFEW': 2, 'FUTWE...</td>\n",
       "    </tr>\n",
       "    <tr>\n",
       "      <th>2</th>\n",
       "      <td>2</td>\n",
       "      <td>ligand2-0</td>\n",
       "      <td>[C]1(C([H])(C(C([H])([H])[C](C(C([C]1[H])([H])...</td>\n",
       "      <td>C8H13</td>\n",
       "      <td>-1</td>\n",
       "      <td>21</td>\n",
       "      <td>{'WAGBIQ': 1}</td>\n",
       "    </tr>\n",
       "    <tr>\n",
       "      <th>3</th>\n",
       "      <td>3</td>\n",
       "      <td>ligand3-0</td>\n",
       "      <td>[Br]</td>\n",
       "      <td>Br</td>\n",
       "      <td>-1</td>\n",
       "      <td>1</td>\n",
       "      <td>{'UFUMUG': 2, 'MARNEY': 1, 'IGUGOH': 2, 'WEYVI...</td>\n",
       "    </tr>\n",
       "    <tr>\n",
       "      <th>4</th>\n",
       "      <td>4</td>\n",
       "      <td>ligand4-0</td>\n",
       "      <td>O=[C]</td>\n",
       "      <td>CO</td>\n",
       "      <td>0</td>\n",
       "      <td>2</td>\n",
       "      <td>{'YAXBUU': 3, 'WURFEW': 2, 'LEYSAK': 4, 'ZEQJA...</td>\n",
       "    </tr>\n",
       "    <tr>\n",
       "      <th>...</th>\n",
       "      <td>...</td>\n",
       "      <td>...</td>\n",
       "      <td>...</td>\n",
       "      <td>...</td>\n",
       "      <td>...</td>\n",
       "      <td>...</td>\n",
       "      <td>...</td>\n",
       "    </tr>\n",
       "    <tr>\n",
       "      <th>29726</th>\n",
       "      <td>29726</td>\n",
       "      <td>ligand31886-0</td>\n",
       "      <td>C1(=C(C(=C([C]1[H])[H])[H])c1nc([H])c(c(c1[H])...</td>\n",
       "      <td>C10H8N</td>\n",
       "      <td>-1</td>\n",
       "      <td>19</td>\n",
       "      <td>{'LECZUQ': 3}</td>\n",
       "    </tr>\n",
       "    <tr>\n",
       "      <th>29727</th>\n",
       "      <td>29727</td>\n",
       "      <td>ligand31887-0</td>\n",
       "      <td>s1c(c(c(c1[H])[H])[H])C(=O)[N]/N=C(/[H])\\c1nc2...</td>\n",
       "      <td>C13H8N3OS2</td>\n",
       "      <td>-1</td>\n",
       "      <td>27</td>\n",
       "      <td>{'GEDMAG': 2}</td>\n",
       "    </tr>\n",
       "    <tr>\n",
       "      <th>29728</th>\n",
       "      <td>29728</td>\n",
       "      <td>ligand31888-0</td>\n",
       "      <td>n1n(c(c(c1[H])[H])[H])C(N(c1c([H])c([H])c(c(c1...</td>\n",
       "      <td>C14H14FN5</td>\n",
       "      <td>0</td>\n",
       "      <td>34</td>\n",
       "      <td>{'KAZKUT': 2}</td>\n",
       "    </tr>\n",
       "    <tr>\n",
       "      <th>29729</th>\n",
       "      <td>29729</td>\n",
       "      <td>ligand31890-0</td>\n",
       "      <td>Brc1n(nc(c1Br)Br)[B]([H])([H])n1nc(c(c1Br)Br)Br</td>\n",
       "      <td>C6H2BBr6N4</td>\n",
       "      <td>-1</td>\n",
       "      <td>19</td>\n",
       "      <td>{'EFUFIU': 2}</td>\n",
       "    </tr>\n",
       "    <tr>\n",
       "      <th>29730</th>\n",
       "      <td>29730</td>\n",
       "      <td>ligand31891-0</td>\n",
       "      <td>[P](c1c(c(c(c(c1[H])[H])[H])[H])[H])([C]([H])[...</td>\n",
       "      <td>C14H13P</td>\n",
       "      <td>-2</td>\n",
       "      <td>28</td>\n",
       "      <td>{'KUVKAN': 2}</td>\n",
       "    </tr>\n",
       "  </tbody>\n",
       "</table>\n",
       "<p>29731 rows × 7 columns</p>\n",
       "</div>"
      ],
      "text/plain": [
       "       Unnamed: 0             ID  \\\n",
       "0               0      ligand0-0   \n",
       "1               1      ligand1-0   \n",
       "2               2      ligand2-0   \n",
       "3               3      ligand3-0   \n",
       "4               4      ligand4-0   \n",
       "...           ...            ...   \n",
       "29726       29726  ligand31886-0   \n",
       "29727       29727  ligand31887-0   \n",
       "29728       29728  ligand31888-0   \n",
       "29729       29729  ligand31890-0   \n",
       "29730       29730  ligand31891-0   \n",
       "\n",
       "                                                  Smiles Stoichiometry  \\\n",
       "0      N1(C([H])([H])c2c3c(c([H])c(c(c3[H])[H])[H])c(...      C20H18N2   \n",
       "1                                                   [Cl]            Cl   \n",
       "2      [C]1(C([H])(C(C([H])([H])[C](C(C([C]1[H])([H])...         C8H13   \n",
       "3                                                   [Br]            Br   \n",
       "4                                                  O=[C]            CO   \n",
       "...                                                  ...           ...   \n",
       "29726  C1(=C(C(=C([C]1[H])[H])[H])c1nc([H])c(c(c1[H])...        C10H8N   \n",
       "29727  s1c(c(c(c1[H])[H])[H])C(=O)[N]/N=C(/[H])\\c1nc2...    C13H8N3OS2   \n",
       "29728  n1n(c(c(c1[H])[H])[H])C(N(c1c([H])c([H])c(c(c1...     C14H14FN5   \n",
       "29729    Brc1n(nc(c1Br)Br)[B]([H])([H])n1nc(c(c1Br)Br)Br    C6H2BBr6N4   \n",
       "29730  [P](c1c(c(c(c(c1[H])[H])[H])[H])[H])([C]([H])[...       C14H13P   \n",
       "\n",
       "       Charge  Nb atoms Complex in which they appear and number of appearances  \n",
       "0           0        40  {'IRIXOW': 2, 'UKEBAN': 2, 'IRIXUC': 2, 'IRIYA...      \n",
       "1          -1         1  {'WAWJEM': 1, 'KUVSUP': 1, 'WURFEW': 2, 'FUTWE...      \n",
       "2          -1        21                                      {'WAGBIQ': 1}      \n",
       "3          -1         1  {'UFUMUG': 2, 'MARNEY': 1, 'IGUGOH': 2, 'WEYVI...      \n",
       "4           0         2  {'YAXBUU': 3, 'WURFEW': 2, 'LEYSAK': 4, 'ZEQJA...      \n",
       "...       ...       ...                                                ...      \n",
       "29726      -1        19                                      {'LECZUQ': 3}      \n",
       "29727      -1        27                                      {'GEDMAG': 2}      \n",
       "29728       0        34                                      {'KAZKUT': 2}      \n",
       "29729      -1        19                                      {'EFUFIU': 2}      \n",
       "29730      -2        28                                      {'KUVKAN': 2}      \n",
       "\n",
       "[29731 rows x 7 columns]"
      ]
     },
     "execution_count": 94,
     "metadata": {},
     "output_type": "execute_result"
    }
   ],
   "source": [
    "df_ligands"
   ]
  },
  {
   "cell_type": "markdown",
   "metadata": {},
   "source": [
    "Save our progress."
   ]
  },
  {
   "cell_type": "code",
   "execution_count": 79,
   "metadata": {},
   "outputs": [],
   "source": [
    "pd.DataFrame.to_csv(df_ligands, 'Separate ligand info.csv')"
   ]
  },
  {
   "cell_type": "markdown",
   "metadata": {},
   "source": [
    "Now, we want to add to our complex database which ligands appear in it and their number of occurance. The code is made to be as efficient as possible considering the amount of data we are going through."
   ]
  },
  {
   "cell_type": "code",
   "execution_count": 109,
   "metadata": {},
   "outputs": [],
   "source": [
    "for i, complex in enumerate(df_complex['id']):\n",
    "    for j, ligand_dico in enumerate(df_ligands['Complex in which they appear and number of appearances']):\n",
    "        if complex in ligand_dico.keys():\n",
    "            df_complex[\"Ligands and number of occurance\"][i][f'{df_ligands.iloc[j,1]}']=ligand_dico[complex]"
   ]
  },
  {
   "cell_type": "code",
   "execution_count": 110,
   "metadata": {},
   "outputs": [
    {
     "data": {
      "text/html": [
       "<div>\n",
       "<style scoped>\n",
       "    .dataframe tbody tr th:only-of-type {\n",
       "        vertical-align: middle;\n",
       "    }\n",
       "\n",
       "    .dataframe tbody tr th {\n",
       "        vertical-align: top;\n",
       "    }\n",
       "\n",
       "    .dataframe thead th {\n",
       "        text-align: right;\n",
       "    }\n",
       "</style>\n",
       "<table border=\"1\" class=\"dataframe\">\n",
       "  <thead>\n",
       "    <tr style=\"text-align: right;\">\n",
       "      <th></th>\n",
       "      <th>Unnamed: 0</th>\n",
       "      <th>id</th>\n",
       "      <th>charge</th>\n",
       "      <th>molecular_mass</th>\n",
       "      <th>n_atoms</th>\n",
       "      <th>n_electrons</th>\n",
       "      <th>Stoichiometry</th>\n",
       "      <th>Metals</th>\n",
       "      <th>Ligands and number of occurance</th>\n",
       "    </tr>\n",
       "  </thead>\n",
       "  <tbody>\n",
       "    <tr>\n",
       "      <th>0</th>\n",
       "      <td>0</td>\n",
       "      <td>TUTCAM</td>\n",
       "      <td>0</td>\n",
       "      <td>728.12688</td>\n",
       "      <td>81</td>\n",
       "      <td>374</td>\n",
       "      <td>NaN</td>\n",
       "      <td>[Cd]</td>\n",
       "      <td>{'ligand34-0': 2, 'ligand27213-0': 2}</td>\n",
       "    </tr>\n",
       "    <tr>\n",
       "      <th>1</th>\n",
       "      <td>1</td>\n",
       "      <td>WAWJEM</td>\n",
       "      <td>0</td>\n",
       "      <td>692.22093</td>\n",
       "      <td>75</td>\n",
       "      <td>346</td>\n",
       "      <td>NaN</td>\n",
       "      <td>[Au]</td>\n",
       "      <td>{'ligand1-0': 1, 'ligand25035-0': 1}</td>\n",
       "    </tr>\n",
       "    <tr>\n",
       "      <th>2</th>\n",
       "      <td>2</td>\n",
       "      <td>KUVSUP</td>\n",
       "      <td>0</td>\n",
       "      <td>492.00654</td>\n",
       "      <td>47</td>\n",
       "      <td>248</td>\n",
       "      <td>C20H19ClN2O4Pd</td>\n",
       "      <td>[Pd]</td>\n",
       "      <td>{'ligand1-0': 1, 'ligand115-0': 1, 'ligand1313...</td>\n",
       "    </tr>\n",
       "    <tr>\n",
       "      <th>3</th>\n",
       "      <td>3</td>\n",
       "      <td>WURFEW</td>\n",
       "      <td>0</td>\n",
       "      <td>516.06263</td>\n",
       "      <td>56</td>\n",
       "      <td>264</td>\n",
       "      <td>NaN</td>\n",
       "      <td>[Ru]</td>\n",
       "      <td>{'ligand1-0': 2, 'ligand4-0': 2, 'ligand12916-...</td>\n",
       "    </tr>\n",
       "    <tr>\n",
       "      <th>4</th>\n",
       "      <td>4</td>\n",
       "      <td>YAXBUU</td>\n",
       "      <td>1</td>\n",
       "      <td>496.14599</td>\n",
       "      <td>49</td>\n",
       "      <td>242</td>\n",
       "      <td>NaN</td>\n",
       "      <td>[Re]</td>\n",
       "      <td>{'ligand4-0': 3, 'ligand4191-0': 3}</td>\n",
       "    </tr>\n",
       "    <tr>\n",
       "      <th>...</th>\n",
       "      <td>...</td>\n",
       "      <td>...</td>\n",
       "      <td>...</td>\n",
       "      <td>...</td>\n",
       "      <td>...</td>\n",
       "      <td>...</td>\n",
       "      <td>...</td>\n",
       "      <td>...</td>\n",
       "      <td>...</td>\n",
       "    </tr>\n",
       "    <tr>\n",
       "      <th>60794</th>\n",
       "      <td>60794</td>\n",
       "      <td>WIBQUU</td>\n",
       "      <td>0</td>\n",
       "      <td>478.92184</td>\n",
       "      <td>25</td>\n",
       "      <td>224</td>\n",
       "      <td>NaN</td>\n",
       "      <td>[Pt]</td>\n",
       "      <td>{'ligand19880-0': 2}</td>\n",
       "    </tr>\n",
       "    <tr>\n",
       "      <th>60795</th>\n",
       "      <td>60795</td>\n",
       "      <td>CERJOY</td>\n",
       "      <td>0</td>\n",
       "      <td>410.07147</td>\n",
       "      <td>47</td>\n",
       "      <td>212</td>\n",
       "      <td>NaN</td>\n",
       "      <td>[Mn]</td>\n",
       "      <td>{'ligand4-0': 2, 'ligand4353-0': 2}</td>\n",
       "    </tr>\n",
       "    <tr>\n",
       "      <th>60796</th>\n",
       "      <td>60796</td>\n",
       "      <td>VUPXIO</td>\n",
       "      <td>0</td>\n",
       "      <td>552.89084</td>\n",
       "      <td>31</td>\n",
       "      <td>262</td>\n",
       "      <td>NaN</td>\n",
       "      <td>[Pt]</td>\n",
       "      <td>{'ligand1-0': 2, 'ligand21337-0': 2}</td>\n",
       "    </tr>\n",
       "    <tr>\n",
       "      <th>60797</th>\n",
       "      <td>60797</td>\n",
       "      <td>KONBEW</td>\n",
       "      <td>0</td>\n",
       "      <td>598.99920</td>\n",
       "      <td>39</td>\n",
       "      <td>284</td>\n",
       "      <td>C20H10Cl2N6Pt</td>\n",
       "      <td>[Pt]</td>\n",
       "      <td>{'ligand1-0': 2, 'ligand4916-0': 2}</td>\n",
       "    </tr>\n",
       "    <tr>\n",
       "      <th>60798</th>\n",
       "      <td>60798</td>\n",
       "      <td>MORDAY</td>\n",
       "      <td>0</td>\n",
       "      <td>561.98627</td>\n",
       "      <td>52</td>\n",
       "      <td>276</td>\n",
       "      <td>NaN</td>\n",
       "      <td>[]</td>\n",
       "      <td>{}</td>\n",
       "    </tr>\n",
       "  </tbody>\n",
       "</table>\n",
       "<p>60799 rows × 9 columns</p>\n",
       "</div>"
      ],
      "text/plain": [
       "       Unnamed: 0      id  charge  molecular_mass  n_atoms  n_electrons  \\\n",
       "0               0  TUTCAM       0       728.12688       81          374   \n",
       "1               1  WAWJEM       0       692.22093       75          346   \n",
       "2               2  KUVSUP       0       492.00654       47          248   \n",
       "3               3  WURFEW       0       516.06263       56          264   \n",
       "4               4  YAXBUU       1       496.14599       49          242   \n",
       "...           ...     ...     ...             ...      ...          ...   \n",
       "60794       60794  WIBQUU       0       478.92184       25          224   \n",
       "60795       60795  CERJOY       0       410.07147       47          212   \n",
       "60796       60796  VUPXIO       0       552.89084       31          262   \n",
       "60797       60797  KONBEW       0       598.99920       39          284   \n",
       "60798       60798  MORDAY       0       561.98627       52          276   \n",
       "\n",
       "        Stoichiometry Metals  \\\n",
       "0                 NaN   [Cd]   \n",
       "1                 NaN   [Au]   \n",
       "2      C20H19ClN2O4Pd   [Pd]   \n",
       "3                 NaN   [Ru]   \n",
       "4                 NaN   [Re]   \n",
       "...               ...    ...   \n",
       "60794             NaN   [Pt]   \n",
       "60795             NaN   [Mn]   \n",
       "60796             NaN   [Pt]   \n",
       "60797   C20H10Cl2N6Pt   [Pt]   \n",
       "60798             NaN     []   \n",
       "\n",
       "                         Ligands and number of occurance  \n",
       "0                  {'ligand34-0': 2, 'ligand27213-0': 2}  \n",
       "1                   {'ligand1-0': 1, 'ligand25035-0': 1}  \n",
       "2      {'ligand1-0': 1, 'ligand115-0': 1, 'ligand1313...  \n",
       "3      {'ligand1-0': 2, 'ligand4-0': 2, 'ligand12916-...  \n",
       "4                    {'ligand4-0': 3, 'ligand4191-0': 3}  \n",
       "...                                                  ...  \n",
       "60794                               {'ligand19880-0': 2}  \n",
       "60795                {'ligand4-0': 2, 'ligand4353-0': 2}  \n",
       "60796               {'ligand1-0': 2, 'ligand21337-0': 2}  \n",
       "60797                {'ligand1-0': 2, 'ligand4916-0': 2}  \n",
       "60798                                                 {}  \n",
       "\n",
       "[60799 rows x 9 columns]"
      ]
     },
     "execution_count": 110,
     "metadata": {},
     "output_type": "execute_result"
    }
   ],
   "source": [
    "df_complex"
   ]
  },
  {
   "cell_type": "markdown",
   "metadata": {},
   "source": [
    "We check that the amount of complexes with missing data is the same as previously, otherwise it would mean something went wrong."
   ]
  },
  {
   "cell_type": "code",
   "execution_count": 112,
   "metadata": {},
   "outputs": [
    {
     "name": "stdout",
     "output_type": "stream",
     "text": [
      "3754\n"
     ]
    }
   ],
   "source": [
    "j=0\n",
    "for i in range(0, len(df_complex)):\n",
    "    if df_complex[\"Ligands and number of occurance\"][i]=={}:\n",
    "        j+=1\n",
    "print(j)"
   ]
  },
  {
   "cell_type": "markdown",
   "metadata": {},
   "source": [
    "Save our progress."
   ]
  },
  {
   "cell_type": "code",
   "execution_count": 113,
   "metadata": {},
   "outputs": [],
   "source": [
    "pd.DataFrame.to_csv(df_complex, 'Separate complex info.csv')"
   ]
  },
  {
   "cell_type": "code",
   "execution_count": null,
   "metadata": {},
   "outputs": [],
   "source": []
  }
 ],
 "metadata": {
  "kernelspec": {
   "display_name": "base",
   "language": "python",
   "name": "python3"
  },
  "language_info": {
   "codemirror_mode": {
    "name": "ipython",
    "version": 3
   },
   "file_extension": ".py",
   "mimetype": "text/x-python",
   "name": "python",
   "nbconvert_exporter": "python",
   "pygments_lexer": "ipython3",
   "version": "3.11.5"
  }
 },
 "nbformat": 4,
 "nbformat_minor": 2
}
