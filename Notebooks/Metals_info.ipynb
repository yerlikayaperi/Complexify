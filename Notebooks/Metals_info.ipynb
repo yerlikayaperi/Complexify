{
 "cells": [
  {
   "cell_type": "markdown",
   "metadata": {},
   "source": [
    "## **CREATION OF CSV DATABASE FOR METALS FROM THE PERIODIC TABLE**\n"
   ]
  },
  {
   "cell_type": "code",
   "execution_count": 16,
   "metadata": {},
   "outputs": [],
   "source": [
    "import numpy as np\n",
    "import pandas as pd\n",
    "import matplotlib.pyplot as plt"
   ]
  },
  {
   "cell_type": "code",
   "execution_count": 17,
   "metadata": {},
   "outputs": [
    {
     "name": "stdout",
     "output_type": "stream",
     "text": [
      "           Name Metals  Number of electrons  Number of valence electrons\n",
      "0       Lithium     Li                    1                            3\n",
      "1     Beryllium     Be                    2                            4\n",
      "2         Boron      B                    3                            5\n",
      "3        Sodium     Na                   11                            1\n",
      "4     Magnesium     Mg                   12                            2\n",
      "..          ...    ...                  ...                          ...\n",
      "93  Einsteinium     Es                   99                            2\n",
      "94      Fermium     Fm                  100                            2\n",
      "95  Mendelevium     Md                  101                            2\n",
      "96     Nobelium     No                  102                            2\n",
      "97   Lawrencium     Lr                  103                            2\n",
      "\n",
      "[98 rows x 4 columns]\n"
     ]
    }
   ],
   "source": [
    "data = {\n",
    "    \"Name\": [\"Lithium\", \"Beryllium\", \"Boron\",\"Sodium\",\"Magnesium\",\"Aluminium\",\"Silicon\",\"Potassium\",\"Calcium\",\"Scandium\",\"Titanium\",\"Vanadium\",\"Chromium\",\"Manganese\",\"Iron\",\"Cobalt\",\"Nickel\",\"Copper\",\"Zinc\",\"Gallium\",\"Germanium\",\"Arsenic\",\"Rubidium\",\"Strontium\",\"Yttrium\",\"Zirconium\",\"Niobium\",\"Molybdenum\",\"Technetium\",\"Ruthenium\",\"Rhodium\",\"Palladium\",\"Silver\",\"Cadmium\",\"Indium\",\"Tin\",\"Antimony\",\"Tellurium\",\"Cesium\",\"Barium\",\"Hafnium\",\"Tantalum\",\"Tungsten\",\"Rhenium\",\"Osmium\",\"Iridium\",\"Platinum\",\"Gold\",\"Mercury\",\"Thallium\",\"Lead\",\"Bismuth\",\"Polonium\",\"Francium\",\"Radium\",\"Rutherfordium\",\"Dubnium\",\"Seaborgium\",\"Bohrium\",\"Hassium\",\"Meitnerium\",\"Darmstadtium\",\"Roentgenium\",\"Copernicium\",\"Ununtrium\",\"Flerovium\",\"Ununpentium\",\"Livermorium\",\"Lanthanum\",\"Cerium\",\"Praseodymium\",\"Neodymium\",\"Promethium\",\"Samarium\",\"Europium\",\"Gadolinium\",\"Terbium\",\"Dysprosium\",\"Holmium\",\"Erbium\",\"Thulium\",\"Ytterbium\",\"Lutetium\",\"Actinium\",\"Thorium\",\"Protactinium\",\"Uranium\",\"Neptunium\",\"Plutonium\",\"Americium\",\"Curium\",\"Berkelium\",\"Californium\",\"Einsteinium\",\"Fermium\",\"Mendelevium\",\"Nobelium\",\"Lawrencium\"],\n",
    "    \"Metals\": ['Li','Be','B','Na','Mg','Al',\"Si\",\"K\",\"Ca\",\"Sc\",\"Ti\",\"V\",\"Cr\",\"Mn\",\"Fe\",\"Co\",\"Ni\",\"Cu\",\"Zn\",\"Ga\",\"Ge\",\"As\",\"Rb\",\"Sr\",\"Y\",\"Zr\",\"Nb\",\"Mo\",\"Tc\",\"Ru\",\"Rh\",\"Pd\",\"Ag\",\"Cd\",\"In\",\"Sn\",\"Sb\",\"Te\",\"Cs\",\"Ba\",\"Hf\",\"Ta\",\"W\",\"Re\",\"Os\",\"Ir\",\"Pt\",\"Au\",\"Hg\",\"Tl\",\"Pb\",\"Bi\",\"Po\",\"Fr\",\"Ra\",\"Rf\",\"Db\",'Sg',\"Bh\",\"Hs\",\"Mt\",\"Ds\",\"Rg\",\"Cn\",\"Uut\",\"Fl\",\"Uup\",\"Lv\",\"La\",\"Ce\",\"Pr\",\"Nd\",\"Pm\",\"Sm\",\"Eu\",\"Gd\",\"Tb\",\"Dy\",\"Ho\",\"Er\",\"Tm\",\"Yb\",\"Lu\",\"Ac\",\"Th\",\"Pa\",\"U\",\"Np\",\"Pu\",\"Am\",\"Cm\",\"Bk\",\"Cf\",\"Es\",\"Fm\",\"Md\",\"No\",\"Lr\"],\n",
    "    \"Number of electrons\": [1,2,3,11,12,13,14,19,20,21,22,23,24,25,26,27,28,29,30,31,32,33,37,38,39,40,41,42,43,44,45,46,47,48,49,50,51,52,55,56,72,73,74,75,76,77,78,79,80,81,82,83,84,87,88,104,105,106,107,108,109,110,111,112,113,114,115,116,57,58,59,60,61,62,63,64,65,66,67,68,69,70,71,89,90,91,92,93,94,95,96,97,98,99,100,101,102,103],\n",
    "    \"Number of valence electrons\": [3,4,5,1,2,3,4,1,2,2,2,2,1,2,2,2,2,1,2,3,4,5,1,2,2,2,1,1,2,1,1,18,1,2,3,4,5,6,1,2,2,2,2,2,2,2,1,1,2,3,4,5,6,1,2,2,2,2,2,2,2,2,2,2,3,4,5,6,2,2,2,2,2,2,2,2,2,2,2,2,2,2,2,2,2,2,2,2,2,2,2,2,2,2,2,2,2,2]}\n",
    "df = pd.DataFrame(data)\n",
    "print(df)\n",
    "\n",
    "#Saving the dataframe in a CSV file\n",
    "file_path = \"../Created Data/Metals_info.csv\"\n",
    "df.to_csv(file_path,index=False)"
   ]
  },
  {
   "cell_type": "markdown",
   "metadata": {},
   "source": []
  }
 ],
 "metadata": {
  "kernelspec": {
   "display_name": "ppchem",
   "language": "python",
   "name": "python3"
  },
  "language_info": {
   "codemirror_mode": {
    "name": "ipython",
    "version": 3
   },
   "file_extension": ".py",
   "mimetype": "text/x-python",
   "name": "python",
   "nbconvert_exporter": "python",
   "pygments_lexer": "ipython3",
   "version": "3.10.13"
  }
 },
 "nbformat": 4,
 "nbformat_minor": 2
}
