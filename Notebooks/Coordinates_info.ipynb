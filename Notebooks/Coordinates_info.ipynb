{
 "cells": [
  {
   "cell_type": "markdown",
   "metadata": {},
   "source": [
    "## **CREATION OF CSV DATABASE FOR ATOMS' COORDINATES**"
   ]
  },
  {
   "cell_type": "code",
   "execution_count": 3,
   "metadata": {},
   "outputs": [],
   "source": [
    "import streamlit as st\n",
    "import pandas as pd\n",
    "import numpy as np\n",
    "import matplotlib.pyplot as plt\n",
    "import random \n",
    "import ast"
   ]
  },
  {
   "cell_type": "markdown",
   "metadata": {},
   "source": [
    "First, let us regroup all the data we want for this part of our project."
   ]
  },
  {
   "cell_type": "code",
   "execution_count": 4,
   "metadata": {},
   "outputs": [],
   "source": [
    "#Path to Complex_info.csv\n",
    "path_1 = \"/Users/shahi.pra/Desktop/ppc_project/CSV_files/Complex_info.csv\"\n",
    "#Lire le fichier Separate complex info csv \n",
    "df_ligands1 = pd.read_csv(path_1,sep=',')\n",
    "\n",
    "#Path to Ligands_misc_info.csv\n",
    "path_2 = \"/Users/shahi.pra/Desktop/ppc_project/DATABASE/basics/ligands_misc_info.csv\"\n",
    "#Lire le fichier Lig misc CSV\n",
    "df_ligands2 = pd.read_csv(path_2,sep=';')\n"
   ]
  },
  {
   "cell_type": "markdown",
   "metadata": {},
   "source": [
    "Let's create a new dataframe : in the first column, we'll have the ID Complex and in the second one, the ligands which appear in the complex alongside their number of occurence as subgraphs."
   ]
  },
  {
   "cell_type": "code",
   "execution_count": 3,
   "metadata": {},
   "outputs": [],
   "source": [
    "# Creation of the dataframe\n",
    "df = pd.DataFrame(columns=['ID COMPLEX', 'LIGAND 1'])\n",
    "\n",
    "# Path to download the CSV file\n",
    "file_path = \"/Users/shahi.pra/Desktop/ppc_project/CSV_files/coordonnees.csv\"\n",
    "\n",
    "#Conversion of the table in a CSV file\n",
    "df.to_csv(file_path,index=False)\n"
   ]
  },
  {
   "cell_type": "markdown",
   "metadata": {},
   "source": [
    "Let's try out the disctionnary we can found on : https://github.com/hkneiding/tmQMg-L/blob/main/xyz/ligands_xyzs.xyz\n",
    "For each COMPLEX-subgraph-number as key, we have the corresponding atoms' coordinates as values."
   ]
  },
  {
   "cell_type": "code",
   "execution_count": 4,
   "metadata": {},
   "outputs": [
    {
     "name": "stdout",
     "output_type": "stream",
     "text": [
      "Clé : UKEBAN-subgraph-0\n",
      "Valeur correspondante :  N -2.673699 1.175776 -0.873983; C -3.302064 0.812171 0.402068; C -1.376214 0.896032 -1.184056; C -3.307871 1.837939 -1.916574; H -3.373591 1.720014 1.027792; H -2.572181 0.155518 0.912643; C -4.636254 0.124629 0.226394; N -1.20276 1.390161 -2.442218; C -2.37095 1.979667 -2.90873; H -4.362383 2.124755 -1.869498; C -5.85182 0.816 0.486479; C -4.654949 -1.2291 -0.2139; C 0.072499 1.327544 -3.161658; H -2.441316 2.431844 -3.902347; C -7.117731 0.110086 0.34325; C -5.908536 2.198194 0.876305; C -3.459364 -1.950743 -0.542839; C -5.9243 -1.922642 -0.350337; H -0.156073 1.423386 -4.241951; H 0.474969 0.308342 -2.989048; C 1.054854 2.399372 -2.698327; C -8.34356 0.803748 0.61015; C -7.117168 -1.236257 -0.060498; H -4.976871 2.77116 0.982672; C -7.112044 2.834191 1.115392; H -2.47419 -1.465863 -0.4963; C -3.509493 -3.266081 -0.965159; C -5.933166 -3.289945 -0.779857; H 0.663124 3.419768 -2.883891; H 2.018234 2.292873 -3.235555; H 1.250934 2.299412 -1.611898; H -9.288578 0.248859 0.501601; C -8.347147 2.131208 0.986773; H -8.078722 -1.764832 -0.161544; H -7.118072 3.89473 1.409462; H -2.567185 -3.77308 -1.22216; C -4.756757 -3.948656 -1.079492; H -6.903938 -3.802019 -0.870507; H -9.296219 2.651285 1.185515; H -4.77838 -4.997218 -1.413398\n"
     ]
    }
   ],
   "source": [
    "# File path\n",
    "chemin_fichier = '/Users/shahi.pra/Desktop/ppc_project/database/COORDONNÉES/ligands_xyzs.xyz'\n",
    "\n",
    "#Dictionary with a modified display\n",
    "xyzs = {}\n",
    "with open(chemin_fichier, 'r') as fh:\n",
    "    for xyz in fh.read().split('\\n\\n'):\n",
    "        cle = xyz.split('\\n')[1].replace('\\n', ';')  #Replace the '\\n' by des ';'\n",
    "        valeur = xyz.replace('\\n', '; ')  #Replace the '\\n' by des ';'\n",
    "        xyzs[cle] = valeur\n",
    "\n",
    "# Browse Through the Keys of the Dictionary and Print the Corresponding MODIFIED Values\n",
    "for cle in xyzs.keys():\n",
    "    print(\"Clé :\", cle)\n",
    "    chaine_sans_10_premiers = xyzs[cle][22:]\n",
    "    print(\"Valeur correspondante :\", chaine_sans_10_premiers)\n",
    "    break \n",
    "\n",
    "    #Let's break there to print the value corresponding to the chose key (the first one)"
   ]
  },
  {
   "cell_type": "markdown",
   "metadata": {},
   "source": [
    "Now that we've seen how the dictionnary works, let's fill our table !"
   ]
  },
  {
   "cell_type": "code",
   "execution_count": 10,
   "metadata": {},
   "outputs": [
    {
     "name": "stdout",
     "output_type": "stream",
     "text": [
      "      ID COMPLEX                                           LIGAND 1\n",
      "0         TUTCAM  [ligand34-0, TUTCAM-subgraph-2, TUTCAM-subgrap...\n",
      "1         WAWJEM  [ligand1-0, WAWJEM-subgraph-0, ligand25035-0, ...\n",
      "2         KUVSUP  [ligand1-0, KUVSUP-subgraph-0, ligand115-0, KU...\n",
      "3         WURFEW  [ligand1-0, WURFEW-subgraph-4, WURFEW-subgraph...\n",
      "4         YAXBUU  [ligand4-0, YAXBUU-subgraph-0, YAXBUU-subgraph...\n",
      "...          ...                                                ...\n",
      "60794     WIBQUU  [ligand19880-0, WIBQUU-subgraph-0, WIBQUU-subg...\n",
      "60795     CERJOY  [ligand4-0, CERJOY-subgraph-0, CERJOY-subgraph...\n",
      "60796     VUPXIO  [ligand1-0, VUPXIO-subgraph-1, VUPXIO-subgraph...\n",
      "60797     KONBEW  [ligand1-0, KONBEW-subgraph-1, KONBEW-subgraph...\n",
      "60798     MORDAY                                                 []\n",
      "\n",
      "[60799 rows x 2 columns]\n"
     ]
    }
   ],
   "source": [
    "\n",
    "df = pd.DataFrame(columns=['ID COMPLEX', 'LIGAND 1'])\n",
    "\n",
    "for index_2, complex_ in enumerate(df_ligands1.iloc[:, 2]):\n",
    "    # Convert the dictionary column to a dictionary\n",
    "    dictionary_2 = ast.literal_eval(df_ligands1.iloc[index_2, 9])\n",
    "    shah = []\n",
    "\n",
    "    # Iterate through the keys of the dictionary\n",
    "    for key, value in dictionary_2.items():\n",
    "        # Add ligands to the shah list\n",
    "        shah.append(key)\n",
    "        # Find the index in df_ligands2 corresponding to the key\n",
    "        index_1 = df_ligands2[df_ligands2.iloc[:, 0] == key].index\n",
    "        if not index_1.empty:\n",
    "            index_1 = index_1[0]  # Take the first found index\n",
    "            # Convert the dictionary column to a dictionary\n",
    "            dictionary_1 = ast.literal_eval(df_ligands2.iloc[index_1, 4])\n",
    "            for key_1, value_1 in dictionary_1.items():\n",
    "                if key_1 == ast.literal_eval(df_ligands1.iloc[index_2, 8])[0]:\n",
    "                    # Filter strings containing complex_\n",
    "                    strings_containing_complex = [string for string in value_1 if complex_ in string]\n",
    "                    shah.extend(strings_containing_complex)\n",
    "\n",
    "    # Add values to the 'LIGAND 1' column\n",
    "    df.loc[index_2, 'ID COMPLEX'] = complex_\n",
    "    df.loc[index_2, 'LIGAND 1'] = shah\n",
    "\n",
    "print(df)\n",
    "\n",
    "# Save the dataframe to a CSV file\n",
    "file_path = \"/Users/shahi.pra/Desktop/ppc_project/CSV_files/coordonnees.csv\"\n",
    "df.to_csv(file_path, index=False)\n",
    "\n"
   ]
  },
  {
   "cell_type": "markdown",
   "metadata": {},
   "source": [
    "Based on the table, let's associate the atoms' coordinates to a complex chosen by the user (index = 'TUTCAM') as it will be in the app"
   ]
  },
  {
   "cell_type": "code",
   "execution_count": null,
   "metadata": {},
   "outputs": [],
   "source": [
    "#COORDINATES CORRESPONDING TO EACH LIGAND OF THE COMPLEX \n",
    "\n",
    "li = []\n",
    "\n",
    "index = 'TUTCAM'\n",
    "\n",
    "\n",
    "for i, sublist in enumerate(df.iloc[index,1]):  \n",
    "    print(i)\n",
    "    print(sublist)\n",
    "    for element in sublist:\n",
    "        for key in xyzs.keys():\n",
    "            if element == key:\n",
    "                value = xyzs[key]\n",
    "                modified_value_1 = value.replace('\\n', ';')  # replace \\n with ;\n",
    "                modified_value_2 = modified_value_1[22:]  # remove the first 22 strings\n",
    "                    \n",
    "                print(modified_value_2)  # THESE ARE THE COORDINATES ASSOCIATED WITH 1st SUBGRAPH OF TUTCAM)\n",
    "\n",
    "                 \n",
    "\n",
    "                \n",
    "\n",
    "# FINAL PURPOSE: USER ENTERS A COMPLEX : user_1 = 'TUTCAM' AND APP DISPLAYS A BUTTON 'COORDINATES' - CLICK ON IT - TABLE WITH THE ATOMS' COORDINATES FOR EACH SUBGRAPHS\n"
   ]
  }
 ],
 "metadata": {
  "kernelspec": {
   "display_name": "ppchem",
   "language": "python",
   "name": "python3"
  },
  "language_info": {
   "codemirror_mode": {
    "name": "ipython",
    "version": 3
   },
   "file_extension": ".py",
   "mimetype": "text/x-python",
   "name": "python",
   "nbconvert_exporter": "python",
   "pygments_lexer": "ipython3",
   "version": "3.10.13"
  }
 },
 "nbformat": 4,
 "nbformat_minor": 2
}
