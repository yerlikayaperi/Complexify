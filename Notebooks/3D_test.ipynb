{
 "cells": [
  {
   "cell_type": "markdown",
   "metadata": {},
   "source": [
    "# Py3Dmol exploration"
   ]
  },
  {
   "cell_type": "markdown",
   "metadata": {},
   "source": [
    "The goal is to understand how the py3Dmol package works and use it to display complexes and ligands from either their xyz coordinates or SMILES."
   ]
  },
  {
   "cell_type": "code",
   "execution_count": 2,
   "metadata": {
    "metadata": {}
   },
   "outputs": [],
   "source": [
    "import py3Dmol\n",
    "from IPython.display import display, HTML"
   ]
  },
  {
   "cell_type": "code",
   "execution_count": 6,
   "metadata": {
    "metadata": {}
   },
   "outputs": [],
   "source": [
    "import py3Dmol\n",
    "\n",
    "def MolTo3DView(mol, size=(300, 300), style=\"stick\", surface=False, opacity=0.5):\n",
    "    \"\"\"Draw molecule in 3D\n",
    "    \n",
    "    Args:\n",
    "    ----\n",
    "        mol: rdMol, molecule to show\n",
    "        size: tuple(int, int), canvas size\n",
    "        style: str, type of drawing molecule\n",
    "               style can be 'line', 'stick', 'sphere', 'carton'\n",
    "        surface, bool, display SAS\n",
    "        opacity, float, opacity of surface, range 0.0-1.0\n",
    "    Return:\n",
    "    ----\n",
    "        viewer: py3Dmol.view, a class for constructing embedded 3Dmol.js views in ipython notebooks.\n",
    "    \"\"\"\n",
    "    assert style in ('line', 'stick', 'sphere', 'cartoon')\n",
    "    mblock = Chem.MolToMolBlock(mol)\n",
    "    viewer = py3Dmol.view(width=size[0], height=size[1])\n",
    "    viewer.addModel(mblock, 'mol')\n",
    "    viewer.setStyle({\"stick\":{},\"sphere\": {\"scale\":0.25}})\n",
    "    if surface:\n",
    "        viewer.addSurface(py3Dmol.SAS, {'opacity': opacity})\n",
    "    viewer.zoomTo()\n",
    "    return viewer"
   ]
  },
  {
   "cell_type": "code",
   "execution_count": 7,
   "metadata": {
    "metadata": {}
   },
   "outputs": [
    {
     "data": {
      "application/3dmoljs_load.v0": "<div id=\"3dmolviewer_17158676310649555\"  style=\"position: relative; width: 600px; height: 300px;\">\n        <p id=\"3dmolwarning_17158676310649555\" style=\"background-color:#ffcccc;color:black\">3Dmol.js failed to load for some reason.  Please check your browser console for error messages.<br></p>\n        </div>\n<script>\n\nvar loadScriptAsync = function(uri){\n  return new Promise((resolve, reject) => {\n    //this is to ignore the existence of requirejs amd\n    var savedexports, savedmodule;\n    if (typeof exports !== 'undefined') savedexports = exports;\n    else exports = {}\n    if (typeof module !== 'undefined') savedmodule = module;\n    else module = {}\n\n    var tag = document.createElement('script');\n    tag.src = uri;\n    tag.async = true;\n    tag.onload = () => {\n        exports = savedexports;\n        module = savedmodule;\n        resolve();\n    };\n  var firstScriptTag = document.getElementsByTagName('script')[0];\n  firstScriptTag.parentNode.insertBefore(tag, firstScriptTag);\n});\n};\n\nif(typeof $3Dmolpromise === 'undefined') {\n$3Dmolpromise = null;\n  $3Dmolpromise = loadScriptAsync('https://cdnjs.cloudflare.com/ajax/libs/3Dmol/2.1.0/3Dmol-min.js');\n}\n\nvar viewer_17158676310649555 = null;\nvar warn = document.getElementById(\"3dmolwarning_17158676310649555\");\nif(warn) {\n    warn.parentNode.removeChild(warn);\n}\n$3Dmolpromise.then(function() {\nviewer_17158676310649555 = $3Dmol.createViewer(document.getElementById(\"3dmolviewer_17158676310649555\"),{backgroundColor:\"white\"});\nviewer_17158676310649555.zoomTo();\n\tviewer_17158676310649555.addModel(\"\\n     RDKit          3D\\n\\n 67 69  0  0  0  0  0  0  0  0999 V2000\\n    1.9241    3.3698   -0.2402 C   0  0  0  0  0  0  0  0  0  0  0  0\\n    2.9479    2.3753   -0.1695 O   0  0  0  0  0  0  0  0  0  0  0  0\\n    2.4959    1.1106   -0.4960 C   0  0  0  0  0  0  0  0  0  0  0  0\\n    1.2669    0.9665   -1.0246 N   0  0  0  0  0  0  0  0  0  0  0  0\\n    0.9010   -0.2745   -1.3893 C   0  0  0  0  0  0  0  0  0  0  0  0\\n   -0.3448   -0.4206   -1.9467 O   0  0  0  0  0  0  0  0  0  0  0  0\\n   -1.3238   -0.3290   -0.8999 C   0  0  0  0  0  0  0  0  0  0  0  0\\n   -2.7472   -0.5089   -1.4245 C   0  0  0  0  0  0  0  0  0  0  0  0\\n   -2.9651   -0.7812   -2.7841 C   0  0  0  0  0  0  0  0  0  0  0  0\\n   -4.2529   -0.9147   -3.2884 C   0  0  0  0  0  0  0  0  0  0  0  0\\n   -5.3577   -0.7702   -2.4449 C   0  0  0  0  0  0  0  0  0  0  0  0\\n   -6.6661   -0.8918   -3.0318 C   0  0  0  0  0  0  0  0  0  0  0  0\\n   -7.7065   -1.0055   -3.5312 N   0  0  0  0  0  0  0  0  0  0  0  0\\n   -5.1832   -0.5007   -1.0644 C   0  0  0  0  0  0  0  0  0  0  0  0\\n   -6.3700   -0.3020   -0.2135 C   0  0  0  0  0  0  0  0  0  0  0  0\\n   -7.0930   -1.3986    0.2844 C   0  0  0  0  0  0  0  0  0  0  0  0\\n   -8.1999   -1.2004    1.1133 C   0  0  0  0  0  0  0  0  0  0  0  0\\n   -8.6084    0.0949    1.4499 C   0  0  0  0  0  0  0  0  0  0  0  0\\n   -9.7809    0.2510    2.3421 C   0  0  0  0  0  0  0  0  0  0  0  0\\n  -10.4482   -0.6560    2.8019 O   0  0  0  0  0  0  0  0  0  0  0  0\\n  -10.0548    1.5369    2.6275 O   0  0  0  0  0  0  0  0  0  0  0  0\\n   -7.9131    1.1947    0.9389 C   0  0  0  0  0  0  0  0  0  0  0  0\\n   -6.8027    0.9946    0.1121 C   0  0  0  0  0  0  0  0  0  0  0  0\\n   -3.8644   -0.3899   -0.5388 C   0  0  0  0  0  0  0  0  0  0  0  0\\n   -3.5424   -0.0455    1.1740 P   0  0  0  0  0  5  0  0  0  0  0  0\\n   -2.9942    1.2929    1.5619 O   0  0  0  0  0  0  0  0  0  0  0  0\\n   -4.7585   -0.4347    2.1350 O   0  0  0  0  0  0  0  0  0  0  0  0\\n   -2.5635   -1.2241    1.6785 O   0  0  0  0  0  0  0  0  0  0  0  0\\n    1.7164   -1.3873   -1.2869 C   0  0  0  0  0  0  0  0  0  0  0  0\\n    2.9768   -1.2193   -0.7214 C   0  0  0  0  0  0  0  0  0  0  0  0\\n    3.3902    0.0563   -0.3095 C   0  0  0  0  0  0  0  0  0  0  0  0\\n    4.7472    0.2799    0.2814 C   0  0  0  0  0  0  0  0  0  0  0  0\\n    5.8095    0.2682   -0.7750 N   0  0  0  0  0  4  0  0  0  0  0  0\\n    7.2339    0.3914   -0.2943 C   0  0  0  0  0  0  0  0  0  0  0  0\\n    7.7282   -0.8471    0.5105 C   0  0  0  0  0  0  0  0  0  0  0  0\\n    7.5441   -2.6315   -0.6705 I   0  0  0  0  0  0  0  0  0  0  0  0\\n    9.1248   -0.7915    0.8858 N   0  0  0  0  0  0  0  0  0  0  0  0\\n    9.5741    0.1692    1.7858 C   0  0  0  0  0  0  0  0  0  0  0  0\\n    8.8245    1.0940    2.0986 O   0  0  0  0  0  0  0  0  0  0  0  0\\n   11.0340   -0.0225    2.2627 C   0  0  0  0  0  0  0  0  0  0  0  0\\n   11.4680   -1.2864    1.9730 F   0  0  0  0  0  0  0  0  0  0  0  0\\n   12.0459    1.1523    1.4172 Cl  0  0  0  0  0  0  0  0  0  0  0  0\\n   11.0791    0.2538    4.1793 Br  0  0  0  0  0  0  0  0  0  0  0  0\\n    1.5508    3.4839   -1.2633 H   0  0  0  0  0  0  0  0  0  0  0  0\\n    2.3716    4.3233    0.0594 H   0  0  0  0  0  0  0  0  0  0  0  0\\n    1.1070    3.1510    0.4563 H   0  0  0  0  0  0  0  0  0  0  0  0\\n   -1.2538    0.6469   -0.3990 H   0  0  0  0  0  0  0  0  0  0  0  0\\n   -1.1279   -1.1431   -0.1959 H   0  0  0  0  0  0  0  0  0  0  0  0\\n   -2.1284   -0.8740   -3.4763 H   0  0  0  0  0  0  0  0  0  0  0  0\\n   -4.3913   -1.1137   -4.3509 H   0  0  0  0  0  0  0  0  0  0  0  0\\n   -6.7963   -2.4162    0.0406 H   0  0  0  0  0  0  0  0  0  0  0  0\\n   -8.7423   -2.0610    1.4988 H   0  0  0  0  0  0  0  0  0  0  0  0\\n  -10.8491    1.4869    3.2010 H   0  0  0  0  0  0  0  0  0  0  0  0\\n   -8.2254    2.2097    1.1795 H   0  0  0  0  0  0  0  0  0  0  0  0\\n   -6.2735    1.8646   -0.2748 H   0  0  0  0  0  0  0  0  0  0  0  0\\n   -4.6287   -0.0480    3.0234 H   0  0  0  0  0  0  0  0  0  0  0  0\\n   -2.9492   -2.1037    1.5302 H   0  0  0  0  0  0  0  0  0  0  0  0\\n    1.3643   -2.3595   -1.6213 H   0  0  0  0  0  0  0  0  0  0  0  0\\n    3.6157   -2.0938   -0.6079 H   0  0  0  0  0  0  0  0  0  0  0  0\\n    4.9720   -0.5264    0.9882 H   0  0  0  0  0  0  0  0  0  0  0  0\\n    4.8369    1.2310    0.8194 H   0  0  0  0  0  0  0  0  0  0  0  0\\n    5.7062   -0.5776   -1.3526 H   0  0  0  0  0  0  0  0  0  0  0  0\\n    5.6110    1.0566   -1.4104 H   0  0  0  0  0  0  0  0  0  0  0  0\\n    7.8356    0.5242   -1.2028 H   0  0  0  0  0  0  0  0  0  0  0  0\\n    7.2889    1.3239    0.2772 H   0  0  0  0  0  0  0  0  0  0  0  0\\n    7.1454   -0.9515    1.4320 H   0  0  0  0  0  0  0  0  0  0  0  0\\n    9.6693   -1.6521    0.8329 H   0  0  0  0  0  0  0  0  0  0  0  0\\n  1  2  1  0\\n  2  3  1  0\\n  3  4  2  0\\n  4  5  1  0\\n  5  6  1  0\\n  6  7  1  0\\n  7  8  1  0\\n  8  9  2  0\\n  9 10  1  0\\n 10 11  2  0\\n 11 12  1  0\\n 12 13  3  0\\n 11 14  1  0\\n 14 15  1  0\\n 15 16  2  0\\n 16 17  1  0\\n 17 18  2  0\\n 18 19  1  0\\n 19 20  2  0\\n 19 21  1  0\\n 18 22  1  0\\n 22 23  2  0\\n 14 24  2  0\\n 24 25  1  0\\n 25 26  2  0\\n 25 27  1  0\\n 25 28  1  0\\n  5 29  2  0\\n 29 30  1  0\\n 30 31  2  0\\n 31 32  1  0\\n 32 33  1  0\\n 33 34  1  0\\n 34 35  1  0\\n 35 36  1  0\\n 35 37  1  0\\n 37 38  1  0\\n 38 39  2  0\\n 38 40  1  0\\n 40 41  1  0\\n 40 42  1  0\\n 40 43  1  0\\n 23 15  1  0\\n 24  8  1  0\\n 31  3  1  0\\n  1 44  1  0\\n  1 45  1  0\\n  1 46  1  0\\n  7 47  1  0\\n  7 48  1  0\\n  9 49  1  0\\n 10 50  1  0\\n 16 51  1  0\\n 17 52  1  0\\n 21 53  1  0\\n 22 54  1  0\\n 23 55  1  0\\n 27 56  1  0\\n 28 57  1  0\\n 29 58  1  0\\n 30 59  1  0\\n 32 60  1  0\\n 32 61  1  0\\n 33 62  1  0\\n 33 63  1  0\\n 34 64  1  0\\n 34 65  1  0\\n 35 66  1  0\\n 37 67  1  0\\nM  CHG  1  33   1\\nM  END\\n\",\"mol\");\n\tviewer_17158676310649555.setStyle({\"stick\": {}, \"sphere\": {\"scale\": 0.25}});\n\tviewer_17158676310649555.zoomTo();\nviewer_17158676310649555.render();\n});\n</script>",
      "text/html": [
       "<div id=\"3dmolviewer_17158676310649555\"  style=\"position: relative; width: 600px; height: 300px;\">\n",
       "        <p id=\"3dmolwarning_17158676310649555\" style=\"background-color:#ffcccc;color:black\">3Dmol.js failed to load for some reason.  Please check your browser console for error messages.<br></p>\n",
       "        </div>\n",
       "<script>\n",
       "\n",
       "var loadScriptAsync = function(uri){\n",
       "  return new Promise((resolve, reject) => {\n",
       "    //this is to ignore the existence of requirejs amd\n",
       "    var savedexports, savedmodule;\n",
       "    if (typeof exports !== 'undefined') savedexports = exports;\n",
       "    else exports = {}\n",
       "    if (typeof module !== 'undefined') savedmodule = module;\n",
       "    else module = {}\n",
       "\n",
       "    var tag = document.createElement('script');\n",
       "    tag.src = uri;\n",
       "    tag.async = true;\n",
       "    tag.onload = () => {\n",
       "        exports = savedexports;\n",
       "        module = savedmodule;\n",
       "        resolve();\n",
       "    };\n",
       "  var firstScriptTag = document.getElementsByTagName('script')[0];\n",
       "  firstScriptTag.parentNode.insertBefore(tag, firstScriptTag);\n",
       "});\n",
       "};\n",
       "\n",
       "if(typeof $3Dmolpromise === 'undefined') {\n",
       "$3Dmolpromise = null;\n",
       "  $3Dmolpromise = loadScriptAsync('https://cdnjs.cloudflare.com/ajax/libs/3Dmol/2.1.0/3Dmol-min.js');\n",
       "}\n",
       "\n",
       "var viewer_17158676310649555 = null;\n",
       "var warn = document.getElementById(\"3dmolwarning_17158676310649555\");\n",
       "if(warn) {\n",
       "    warn.parentNode.removeChild(warn);\n",
       "}\n",
       "$3Dmolpromise.then(function() {\n",
       "viewer_17158676310649555 = $3Dmol.createViewer(document.getElementById(\"3dmolviewer_17158676310649555\"),{backgroundColor:\"white\"});\n",
       "viewer_17158676310649555.zoomTo();\n",
       "\tviewer_17158676310649555.addModel(\"\\n     RDKit          3D\\n\\n 67 69  0  0  0  0  0  0  0  0999 V2000\\n    1.9241    3.3698   -0.2402 C   0  0  0  0  0  0  0  0  0  0  0  0\\n    2.9479    2.3753   -0.1695 O   0  0  0  0  0  0  0  0  0  0  0  0\\n    2.4959    1.1106   -0.4960 C   0  0  0  0  0  0  0  0  0  0  0  0\\n    1.2669    0.9665   -1.0246 N   0  0  0  0  0  0  0  0  0  0  0  0\\n    0.9010   -0.2745   -1.3893 C   0  0  0  0  0  0  0  0  0  0  0  0\\n   -0.3448   -0.4206   -1.9467 O   0  0  0  0  0  0  0  0  0  0  0  0\\n   -1.3238   -0.3290   -0.8999 C   0  0  0  0  0  0  0  0  0  0  0  0\\n   -2.7472   -0.5089   -1.4245 C   0  0  0  0  0  0  0  0  0  0  0  0\\n   -2.9651   -0.7812   -2.7841 C   0  0  0  0  0  0  0  0  0  0  0  0\\n   -4.2529   -0.9147   -3.2884 C   0  0  0  0  0  0  0  0  0  0  0  0\\n   -5.3577   -0.7702   -2.4449 C   0  0  0  0  0  0  0  0  0  0  0  0\\n   -6.6661   -0.8918   -3.0318 C   0  0  0  0  0  0  0  0  0  0  0  0\\n   -7.7065   -1.0055   -3.5312 N   0  0  0  0  0  0  0  0  0  0  0  0\\n   -5.1832   -0.5007   -1.0644 C   0  0  0  0  0  0  0  0  0  0  0  0\\n   -6.3700   -0.3020   -0.2135 C   0  0  0  0  0  0  0  0  0  0  0  0\\n   -7.0930   -1.3986    0.2844 C   0  0  0  0  0  0  0  0  0  0  0  0\\n   -8.1999   -1.2004    1.1133 C   0  0  0  0  0  0  0  0  0  0  0  0\\n   -8.6084    0.0949    1.4499 C   0  0  0  0  0  0  0  0  0  0  0  0\\n   -9.7809    0.2510    2.3421 C   0  0  0  0  0  0  0  0  0  0  0  0\\n  -10.4482   -0.6560    2.8019 O   0  0  0  0  0  0  0  0  0  0  0  0\\n  -10.0548    1.5369    2.6275 O   0  0  0  0  0  0  0  0  0  0  0  0\\n   -7.9131    1.1947    0.9389 C   0  0  0  0  0  0  0  0  0  0  0  0\\n   -6.8027    0.9946    0.1121 C   0  0  0  0  0  0  0  0  0  0  0  0\\n   -3.8644   -0.3899   -0.5388 C   0  0  0  0  0  0  0  0  0  0  0  0\\n   -3.5424   -0.0455    1.1740 P   0  0  0  0  0  5  0  0  0  0  0  0\\n   -2.9942    1.2929    1.5619 O   0  0  0  0  0  0  0  0  0  0  0  0\\n   -4.7585   -0.4347    2.1350 O   0  0  0  0  0  0  0  0  0  0  0  0\\n   -2.5635   -1.2241    1.6785 O   0  0  0  0  0  0  0  0  0  0  0  0\\n    1.7164   -1.3873   -1.2869 C   0  0  0  0  0  0  0  0  0  0  0  0\\n    2.9768   -1.2193   -0.7214 C   0  0  0  0  0  0  0  0  0  0  0  0\\n    3.3902    0.0563   -0.3095 C   0  0  0  0  0  0  0  0  0  0  0  0\\n    4.7472    0.2799    0.2814 C   0  0  0  0  0  0  0  0  0  0  0  0\\n    5.8095    0.2682   -0.7750 N   0  0  0  0  0  4  0  0  0  0  0  0\\n    7.2339    0.3914   -0.2943 C   0  0  0  0  0  0  0  0  0  0  0  0\\n    7.7282   -0.8471    0.5105 C   0  0  0  0  0  0  0  0  0  0  0  0\\n    7.5441   -2.6315   -0.6705 I   0  0  0  0  0  0  0  0  0  0  0  0\\n    9.1248   -0.7915    0.8858 N   0  0  0  0  0  0  0  0  0  0  0  0\\n    9.5741    0.1692    1.7858 C   0  0  0  0  0  0  0  0  0  0  0  0\\n    8.8245    1.0940    2.0986 O   0  0  0  0  0  0  0  0  0  0  0  0\\n   11.0340   -0.0225    2.2627 C   0  0  0  0  0  0  0  0  0  0  0  0\\n   11.4680   -1.2864    1.9730 F   0  0  0  0  0  0  0  0  0  0  0  0\\n   12.0459    1.1523    1.4172 Cl  0  0  0  0  0  0  0  0  0  0  0  0\\n   11.0791    0.2538    4.1793 Br  0  0  0  0  0  0  0  0  0  0  0  0\\n    1.5508    3.4839   -1.2633 H   0  0  0  0  0  0  0  0  0  0  0  0\\n    2.3716    4.3233    0.0594 H   0  0  0  0  0  0  0  0  0  0  0  0\\n    1.1070    3.1510    0.4563 H   0  0  0  0  0  0  0  0  0  0  0  0\\n   -1.2538    0.6469   -0.3990 H   0  0  0  0  0  0  0  0  0  0  0  0\\n   -1.1279   -1.1431   -0.1959 H   0  0  0  0  0  0  0  0  0  0  0  0\\n   -2.1284   -0.8740   -3.4763 H   0  0  0  0  0  0  0  0  0  0  0  0\\n   -4.3913   -1.1137   -4.3509 H   0  0  0  0  0  0  0  0  0  0  0  0\\n   -6.7963   -2.4162    0.0406 H   0  0  0  0  0  0  0  0  0  0  0  0\\n   -8.7423   -2.0610    1.4988 H   0  0  0  0  0  0  0  0  0  0  0  0\\n  -10.8491    1.4869    3.2010 H   0  0  0  0  0  0  0  0  0  0  0  0\\n   -8.2254    2.2097    1.1795 H   0  0  0  0  0  0  0  0  0  0  0  0\\n   -6.2735    1.8646   -0.2748 H   0  0  0  0  0  0  0  0  0  0  0  0\\n   -4.6287   -0.0480    3.0234 H   0  0  0  0  0  0  0  0  0  0  0  0\\n   -2.9492   -2.1037    1.5302 H   0  0  0  0  0  0  0  0  0  0  0  0\\n    1.3643   -2.3595   -1.6213 H   0  0  0  0  0  0  0  0  0  0  0  0\\n    3.6157   -2.0938   -0.6079 H   0  0  0  0  0  0  0  0  0  0  0  0\\n    4.9720   -0.5264    0.9882 H   0  0  0  0  0  0  0  0  0  0  0  0\\n    4.8369    1.2310    0.8194 H   0  0  0  0  0  0  0  0  0  0  0  0\\n    5.7062   -0.5776   -1.3526 H   0  0  0  0  0  0  0  0  0  0  0  0\\n    5.6110    1.0566   -1.4104 H   0  0  0  0  0  0  0  0  0  0  0  0\\n    7.8356    0.5242   -1.2028 H   0  0  0  0  0  0  0  0  0  0  0  0\\n    7.2889    1.3239    0.2772 H   0  0  0  0  0  0  0  0  0  0  0  0\\n    7.1454   -0.9515    1.4320 H   0  0  0  0  0  0  0  0  0  0  0  0\\n    9.6693   -1.6521    0.8329 H   0  0  0  0  0  0  0  0  0  0  0  0\\n  1  2  1  0\\n  2  3  1  0\\n  3  4  2  0\\n  4  5  1  0\\n  5  6  1  0\\n  6  7  1  0\\n  7  8  1  0\\n  8  9  2  0\\n  9 10  1  0\\n 10 11  2  0\\n 11 12  1  0\\n 12 13  3  0\\n 11 14  1  0\\n 14 15  1  0\\n 15 16  2  0\\n 16 17  1  0\\n 17 18  2  0\\n 18 19  1  0\\n 19 20  2  0\\n 19 21  1  0\\n 18 22  1  0\\n 22 23  2  0\\n 14 24  2  0\\n 24 25  1  0\\n 25 26  2  0\\n 25 27  1  0\\n 25 28  1  0\\n  5 29  2  0\\n 29 30  1  0\\n 30 31  2  0\\n 31 32  1  0\\n 32 33  1  0\\n 33 34  1  0\\n 34 35  1  0\\n 35 36  1  0\\n 35 37  1  0\\n 37 38  1  0\\n 38 39  2  0\\n 38 40  1  0\\n 40 41  1  0\\n 40 42  1  0\\n 40 43  1  0\\n 23 15  1  0\\n 24  8  1  0\\n 31  3  1  0\\n  1 44  1  0\\n  1 45  1  0\\n  1 46  1  0\\n  7 47  1  0\\n  7 48  1  0\\n  9 49  1  0\\n 10 50  1  0\\n 16 51  1  0\\n 17 52  1  0\\n 21 53  1  0\\n 22 54  1  0\\n 23 55  1  0\\n 27 56  1  0\\n 28 57  1  0\\n 29 58  1  0\\n 30 59  1  0\\n 32 60  1  0\\n 32 61  1  0\\n 33 62  1  0\\n 33 63  1  0\\n 34 64  1  0\\n 34 65  1  0\\n 35 66  1  0\\n 37 67  1  0\\nM  CHG  1  33   1\\nM  END\\n\",\"mol\");\n",
       "\tviewer_17158676310649555.setStyle({\"stick\": {}, \"sphere\": {\"scale\": 0.25}});\n",
       "\tviewer_17158676310649555.zoomTo();\n",
       "viewer_17158676310649555.render();\n",
       "});\n",
       "</script>"
      ]
     },
     "metadata": {},
     "output_type": "display_data"
    }
   ],
   "source": [
    "from rdkit import Chem\n",
    "from rdkit.Chem import AllChem\n",
    "\n",
    "def smi2conf(smiles):\n",
    "    '''Convert SMILES to rdkit.Mol with 3D coordinates'''\n",
    "    mol = Chem.MolFromSmiles(smiles)\n",
    "    if mol is not None:\n",
    "        mol = Chem.AddHs(mol)\n",
    "        AllChem.EmbedMolecule(mol)\n",
    "        AllChem.MMFFOptimizeMolecule(mol, maxIters=200)\n",
    "        return mol\n",
    "    else:\n",
    "        return None\n",
    "\n",
    "smi = 'COc3nc(OCc2ccc(C#N)c(c1ccc(C(=O)O)cc1)c2P(=O)(O)O)ccc3C[NH2+]CC(I)NC(=O)C(F)(Cl)Br'\n",
    "conf = smi2conf(smi)\n",
    "viewer = MolTo3DView(conf, size=(600, 300))\n",
    "viewer.show()\n"
   ]
  },
  {
   "cell_type": "markdown",
   "metadata": {},
   "source": [
    "This is one of the ligands in the database ! It is quite big."
   ]
  },
  {
   "cell_type": "markdown",
   "metadata": {},
   "source": [
    "Let's try a second time ?"
   ]
  },
  {
   "cell_type": "code",
   "execution_count": 16,
   "metadata": {
    "metadata": {}
   },
   "outputs": [
    {
     "data": {
      "application/3dmoljs_load.v0": "<div id=\"3dmolviewer_17156182238396285\"  style=\"position: relative; width: 600px; height: 300px;\">\n        <p id=\"3dmolwarning_17156182238396285\" style=\"background-color:#ffcccc;color:black\">3Dmol.js failed to load for some reason.  Please check your browser console for error messages.<br></p>\n        </div>\n<script>\n\nvar loadScriptAsync = function(uri){\n  return new Promise((resolve, reject) => {\n    //this is to ignore the existence of requirejs amd\n    var savedexports, savedmodule;\n    if (typeof exports !== 'undefined') savedexports = exports;\n    else exports = {}\n    if (typeof module !== 'undefined') savedmodule = module;\n    else module = {}\n\n    var tag = document.createElement('script');\n    tag.src = uri;\n    tag.async = true;\n    tag.onload = () => {\n        exports = savedexports;\n        module = savedmodule;\n        resolve();\n    };\n  var firstScriptTag = document.getElementsByTagName('script')[0];\n  firstScriptTag.parentNode.insertBefore(tag, firstScriptTag);\n});\n};\n\nif(typeof $3Dmolpromise === 'undefined') {\n$3Dmolpromise = null;\n  $3Dmolpromise = loadScriptAsync('https://cdnjs.cloudflare.com/ajax/libs/3Dmol/2.1.0/3Dmol-min.js');\n}\n\nvar viewer_17156182238396285 = null;\nvar warn = document.getElementById(\"3dmolwarning_17156182238396285\");\nif(warn) {\n    warn.parentNode.removeChild(warn);\n}\n$3Dmolpromise.then(function() {\nviewer_17156182238396285 = $3Dmol.createViewer(document.getElementById(\"3dmolviewer_17156182238396285\"),{backgroundColor:\"white\"});\nviewer_17156182238396285.zoomTo();\n\tviewer_17156182238396285.addModel(\"\\n     RDKit          3D\\n\\n 40 43  0  0  0  0  0  0  0  0999 V2000\\n    1.2973   -0.0833    0.6781 N   0  0  0  0  0  0  0  0  0  0  0  0\\n    0.4669   -0.9998   -0.0903 C   0  0  0  0  0  0  0  0  0  0  0  0\\n   -0.9714   -0.5108   -0.2250 C   0  0  0  0  0  0  0  0  0  0  0  0\\n   -1.4243    0.0760   -1.4543 C   0  0  0  0  0  0  0  0  0  0  0  0\\n   -2.7834    0.4509   -1.5638 C   0  0  0  0  0  0  0  0  0  0  0  0\\n   -3.2767    1.0154   -2.7534 C   0  0  0  0  0  0  0  0  0  0  0  0\\n   -2.4453    1.2309   -3.8483 C   0  0  0  0  0  0  0  0  0  0  0  0\\n   -1.1059    0.8880   -3.7637 C   0  0  0  0  0  0  0  0  0  0  0  0\\n   -0.6050    0.3226   -2.5871 C   0  0  0  0  0  0  0  0  0  0  0  0\\n   -3.6510    0.2650   -0.4821 C   0  0  0  0  0  0  0  0  0  0  0  0\\n   -3.2146   -0.2699    0.7341 C   0  0  0  0  0  0  0  0  0  0  0  0\\n   -1.8647   -0.6566    0.8884 C   0  0  0  0  0  0  0  0  0  0  0  0\\n   -1.4871   -1.1658    2.1569 C   0  0  0  0  0  0  0  0  0  0  0  0\\n   -2.3988   -1.3024    3.2073 C   0  0  0  0  0  0  0  0  0  0  0  0\\n   -3.7213   -0.9308    3.0251 C   0  0  0  0  0  0  0  0  0  0  0  0\\n   -4.1247   -0.4154    1.7963 C   0  0  0  0  0  0  0  0  0  0  0  0\\n    2.6449   -0.5215    1.0279 C   0  0  0  0  0  2  0  0  0  0  0  0\\n    3.6567    0.5312    0.9928 N   0  0  0  0  0  0  0  0  0  0  0  0\\n    2.8773    1.5707    0.4735 C   0  0  0  0  0  0  0  0  0  0  0  0\\n    1.5808    1.2339    0.3007 C   0  0  0  0  0  0  0  0  0  0  0  0\\n    4.9816    0.2178    0.4824 C   0  0  0  0  0  0  0  0  0  0  0  0\\n    5.7388   -0.6724    1.4554 C   0  0  0  0  0  0  0  0  0  0  0  0\\n    0.9248   -1.2039   -1.0634 H   0  0  0  0  0  0  0  0  0  0  0  0\\n    0.4536   -1.9857    0.3938 H   0  0  0  0  0  0  0  0  0  0  0  0\\n   -4.3245    1.2986   -2.8344 H   0  0  0  0  0  0  0  0  0  0  0  0\\n   -2.8431    1.6710   -4.7585 H   0  0  0  0  0  0  0  0  0  0  0  0\\n   -0.4435    1.0613   -4.6078 H   0  0  0  0  0  0  0  0  0  0  0  0\\n    0.4574    0.0953   -2.5740 H   0  0  0  0  0  0  0  0  0  0  0  0\\n   -4.6950    0.5587   -0.5847 H   0  0  0  0  0  0  0  0  0  0  0  0\\n   -0.4563   -1.4490    2.3593 H   0  0  0  0  0  0  0  0  0  0  0  0\\n   -2.0663   -1.6920    4.1658 H   0  0  0  0  0  0  0  0  0  0  0  0\\n   -4.4359   -1.0317    3.8370 H   0  0  0  0  0  0  0  0  0  0  0  0\\n   -5.1648   -0.1197    1.6740 H   0  0  0  0  0  0  0  0  0  0  0  0\\n    3.3522    2.5039    0.2061 H   0  0  0  0  0  0  0  0  0  0  0  0\\n    0.7986    1.8436   -0.1296 H   0  0  0  0  0  0  0  0  0  0  0  0\\n    5.5512    1.1452    0.3466 H   0  0  0  0  0  0  0  0  0  0  0  0\\n    4.9131   -0.2686   -0.4983 H   0  0  0  0  0  0  0  0  0  0  0  0\\n    5.2419   -1.6397    1.5828 H   0  0  0  0  0  0  0  0  0  0  0  0\\n    5.8140   -0.2011    2.4412 H   0  0  0  0  0  0  0  0  0  0  0  0\\n    6.7525   -0.8598    1.0875 H   0  0  0  0  0  0  0  0  0  0  0  0\\n  1  2  1  0\\n  2  3  1  0\\n  3  4  1  0\\n  4  5  1  0\\n  5  6  2  0\\n  6  7  1  0\\n  7  8  2  0\\n  8  9  1  0\\n  5 10  1  0\\n 10 11  2  0\\n 11 12  1  0\\n 12 13  1  0\\n 13 14  2  0\\n 14 15  1  0\\n 15 16  2  0\\n  1 17  1  0\\n 17 18  1  0\\n 18 19  1  0\\n 19 20  2  0\\n 18 21  1  0\\n 21 22  1  0\\n 20  1  1  0\\n 12  3  2  0\\n  9  4  2  0\\n 16 11  1  0\\n  2 23  1  0\\n  2 24  1  0\\n  6 25  1  0\\n  7 26  1  0\\n  8 27  1  0\\n  9 28  1  0\\n 10 29  1  0\\n 13 30  1  0\\n 14 31  1  0\\n 15 32  1  0\\n 16 33  1  0\\n 19 34  1  0\\n 20 35  1  0\\n 21 36  1  0\\n 21 37  1  0\\n 22 38  1  0\\n 22 39  1  0\\n 22 40  1  0\\nM  RAD  1  17   3\\nM  END\\n\",\"mol\");\n\tviewer_17156182238396285.setStyle({\"stick\": {}});\n\tviewer_17156182238396285.zoomTo();\nviewer_17156182238396285.render();\n});\n</script>",
      "text/html": [
       "<div id=\"3dmolviewer_17156182238396285\"  style=\"position: relative; width: 600px; height: 300px;\">\n",
       "        <p id=\"3dmolwarning_17156182238396285\" style=\"background-color:#ffcccc;color:black\">3Dmol.js failed to load for some reason.  Please check your browser console for error messages.<br></p>\n",
       "        </div>\n",
       "<script>\n",
       "\n",
       "var loadScriptAsync = function(uri){\n",
       "  return new Promise((resolve, reject) => {\n",
       "    //this is to ignore the existence of requirejs amd\n",
       "    var savedexports, savedmodule;\n",
       "    if (typeof exports !== 'undefined') savedexports = exports;\n",
       "    else exports = {}\n",
       "    if (typeof module !== 'undefined') savedmodule = module;\n",
       "    else module = {}\n",
       "\n",
       "    var tag = document.createElement('script');\n",
       "    tag.src = uri;\n",
       "    tag.async = true;\n",
       "    tag.onload = () => {\n",
       "        exports = savedexports;\n",
       "        module = savedmodule;\n",
       "        resolve();\n",
       "    };\n",
       "  var firstScriptTag = document.getElementsByTagName('script')[0];\n",
       "  firstScriptTag.parentNode.insertBefore(tag, firstScriptTag);\n",
       "});\n",
       "};\n",
       "\n",
       "if(typeof $3Dmolpromise === 'undefined') {\n",
       "$3Dmolpromise = null;\n",
       "  $3Dmolpromise = loadScriptAsync('https://cdnjs.cloudflare.com/ajax/libs/3Dmol/2.1.0/3Dmol-min.js');\n",
       "}\n",
       "\n",
       "var viewer_17156182238396285 = null;\n",
       "var warn = document.getElementById(\"3dmolwarning_17156182238396285\");\n",
       "if(warn) {\n",
       "    warn.parentNode.removeChild(warn);\n",
       "}\n",
       "$3Dmolpromise.then(function() {\n",
       "viewer_17156182238396285 = $3Dmol.createViewer(document.getElementById(\"3dmolviewer_17156182238396285\"),{backgroundColor:\"white\"});\n",
       "viewer_17156182238396285.zoomTo();\n",
       "\tviewer_17156182238396285.addModel(\"\\n     RDKit          3D\\n\\n 40 43  0  0  0  0  0  0  0  0999 V2000\\n    1.2973   -0.0833    0.6781 N   0  0  0  0  0  0  0  0  0  0  0  0\\n    0.4669   -0.9998   -0.0903 C   0  0  0  0  0  0  0  0  0  0  0  0\\n   -0.9714   -0.5108   -0.2250 C   0  0  0  0  0  0  0  0  0  0  0  0\\n   -1.4243    0.0760   -1.4543 C   0  0  0  0  0  0  0  0  0  0  0  0\\n   -2.7834    0.4509   -1.5638 C   0  0  0  0  0  0  0  0  0  0  0  0\\n   -3.2767    1.0154   -2.7534 C   0  0  0  0  0  0  0  0  0  0  0  0\\n   -2.4453    1.2309   -3.8483 C   0  0  0  0  0  0  0  0  0  0  0  0\\n   -1.1059    0.8880   -3.7637 C   0  0  0  0  0  0  0  0  0  0  0  0\\n   -0.6050    0.3226   -2.5871 C   0  0  0  0  0  0  0  0  0  0  0  0\\n   -3.6510    0.2650   -0.4821 C   0  0  0  0  0  0  0  0  0  0  0  0\\n   -3.2146   -0.2699    0.7341 C   0  0  0  0  0  0  0  0  0  0  0  0\\n   -1.8647   -0.6566    0.8884 C   0  0  0  0  0  0  0  0  0  0  0  0\\n   -1.4871   -1.1658    2.1569 C   0  0  0  0  0  0  0  0  0  0  0  0\\n   -2.3988   -1.3024    3.2073 C   0  0  0  0  0  0  0  0  0  0  0  0\\n   -3.7213   -0.9308    3.0251 C   0  0  0  0  0  0  0  0  0  0  0  0\\n   -4.1247   -0.4154    1.7963 C   0  0  0  0  0  0  0  0  0  0  0  0\\n    2.6449   -0.5215    1.0279 C   0  0  0  0  0  2  0  0  0  0  0  0\\n    3.6567    0.5312    0.9928 N   0  0  0  0  0  0  0  0  0  0  0  0\\n    2.8773    1.5707    0.4735 C   0  0  0  0  0  0  0  0  0  0  0  0\\n    1.5808    1.2339    0.3007 C   0  0  0  0  0  0  0  0  0  0  0  0\\n    4.9816    0.2178    0.4824 C   0  0  0  0  0  0  0  0  0  0  0  0\\n    5.7388   -0.6724    1.4554 C   0  0  0  0  0  0  0  0  0  0  0  0\\n    0.9248   -1.2039   -1.0634 H   0  0  0  0  0  0  0  0  0  0  0  0\\n    0.4536   -1.9857    0.3938 H   0  0  0  0  0  0  0  0  0  0  0  0\\n   -4.3245    1.2986   -2.8344 H   0  0  0  0  0  0  0  0  0  0  0  0\\n   -2.8431    1.6710   -4.7585 H   0  0  0  0  0  0  0  0  0  0  0  0\\n   -0.4435    1.0613   -4.6078 H   0  0  0  0  0  0  0  0  0  0  0  0\\n    0.4574    0.0953   -2.5740 H   0  0  0  0  0  0  0  0  0  0  0  0\\n   -4.6950    0.5587   -0.5847 H   0  0  0  0  0  0  0  0  0  0  0  0\\n   -0.4563   -1.4490    2.3593 H   0  0  0  0  0  0  0  0  0  0  0  0\\n   -2.0663   -1.6920    4.1658 H   0  0  0  0  0  0  0  0  0  0  0  0\\n   -4.4359   -1.0317    3.8370 H   0  0  0  0  0  0  0  0  0  0  0  0\\n   -5.1648   -0.1197    1.6740 H   0  0  0  0  0  0  0  0  0  0  0  0\\n    3.3522    2.5039    0.2061 H   0  0  0  0  0  0  0  0  0  0  0  0\\n    0.7986    1.8436   -0.1296 H   0  0  0  0  0  0  0  0  0  0  0  0\\n    5.5512    1.1452    0.3466 H   0  0  0  0  0  0  0  0  0  0  0  0\\n    4.9131   -0.2686   -0.4983 H   0  0  0  0  0  0  0  0  0  0  0  0\\n    5.2419   -1.6397    1.5828 H   0  0  0  0  0  0  0  0  0  0  0  0\\n    5.8140   -0.2011    2.4412 H   0  0  0  0  0  0  0  0  0  0  0  0\\n    6.7525   -0.8598    1.0875 H   0  0  0  0  0  0  0  0  0  0  0  0\\n  1  2  1  0\\n  2  3  1  0\\n  3  4  1  0\\n  4  5  1  0\\n  5  6  2  0\\n  6  7  1  0\\n  7  8  2  0\\n  8  9  1  0\\n  5 10  1  0\\n 10 11  2  0\\n 11 12  1  0\\n 12 13  1  0\\n 13 14  2  0\\n 14 15  1  0\\n 15 16  2  0\\n  1 17  1  0\\n 17 18  1  0\\n 18 19  1  0\\n 19 20  2  0\\n 18 21  1  0\\n 21 22  1  0\\n 20  1  1  0\\n 12  3  2  0\\n  9  4  2  0\\n 16 11  1  0\\n  2 23  1  0\\n  2 24  1  0\\n  6 25  1  0\\n  7 26  1  0\\n  8 27  1  0\\n  9 28  1  0\\n 10 29  1  0\\n 13 30  1  0\\n 14 31  1  0\\n 15 32  1  0\\n 16 33  1  0\\n 19 34  1  0\\n 20 35  1  0\\n 21 36  1  0\\n 21 37  1  0\\n 22 38  1  0\\n 22 39  1  0\\n 22 40  1  0\\nM  RAD  1  17   3\\nM  END\\n\",\"mol\");\n",
       "\tviewer_17156182238396285.setStyle({\"stick\": {}});\n",
       "\tviewer_17156182238396285.zoomTo();\n",
       "viewer_17156182238396285.render();\n",
       "});\n",
       "</script>"
      ]
     },
     "metadata": {},
     "output_type": "display_data"
    }
   ],
   "source": [
    "smi = 'N1(C([H])([H])c2c3c(c([H])c(c(c3[H])[H])[H])c(c3c2c([H])c([H])c(c3[H])[H])[H])[C]N(C(=C1[H])[H])C([H])([H])C([H])([H])[H]'\n",
    "conf = smi2conf(smi)\n",
    "viewer = MolTo3DView(conf, size=(600, 300))\n",
    "viewer.show()\n"
   ]
  },
  {
   "cell_type": "markdown",
   "metadata": {},
   "source": [
    "The goal is to display full complexes in 3D. Py3Dmol has a functionality to visualize molecules from their coordinates (xyz file), so we are going to use that."
   ]
  },
  {
   "cell_type": "code",
   "execution_count": 3,
   "metadata": {
    "metadata": {}
   },
   "outputs": [
    {
     "data": {
      "application/3dmoljs_load.v0": "<div id=\"3dmolviewer_17158668034707043\"  style=\"position: relative; width: 1000px; height: 500px;\">\n        <p id=\"3dmolwarning_17158668034707043\" style=\"background-color:#ffcccc;color:black\">3Dmol.js failed to load for some reason.  Please check your browser console for error messages.<br></p>\n        </div>\n<script>\n\nvar loadScriptAsync = function(uri){\n  return new Promise((resolve, reject) => {\n    //this is to ignore the existence of requirejs amd\n    var savedexports, savedmodule;\n    if (typeof exports !== 'undefined') savedexports = exports;\n    else exports = {}\n    if (typeof module !== 'undefined') savedmodule = module;\n    else module = {}\n\n    var tag = document.createElement('script');\n    tag.src = uri;\n    tag.async = true;\n    tag.onload = () => {\n        exports = savedexports;\n        module = savedmodule;\n        resolve();\n    };\n  var firstScriptTag = document.getElementsByTagName('script')[0];\n  firstScriptTag.parentNode.insertBefore(tag, firstScriptTag);\n});\n};\n\nif(typeof $3Dmolpromise === 'undefined') {\n$3Dmolpromise = null;\n  $3Dmolpromise = loadScriptAsync('https://cdnjs.cloudflare.com/ajax/libs/3Dmol/2.1.0/3Dmol-min.js');\n}\n\nvar viewer_17158668034707043 = null;\nvar warn = document.getElementById(\"3dmolwarning_17158668034707043\");\nif(warn) {\n    warn.parentNode.removeChild(warn);\n}\n$3Dmolpromise.then(function() {\nviewer_17158668034707043 = $3Dmol.createViewer(document.getElementById(\"3dmolviewer_17158668034707043\"),{backgroundColor:\"white\"});\nviewer_17158668034707043.zoomTo();\n\tviewer_17158668034707043.addModel(\"71\\n\\nPd -0.038431 -2.313915 0.125027\\nCl -1.769487 -3.652364 0.891765\\nCl 1.590335 -3.808565 0.822093\\nC 2.174082 -1.483836 -1.625042\\nN 1.455732 -0.917053 -0.460872\\nC 0.711908 0.318064 -0.838186\\nC -0.598702 -0.008101 -1.521749\\nN -1.429483 -0.92699 -0.690343\\nC -2.406445 -1.616221 -1.567647\\nC 2.362455 -0.670463 0.729038\\nC 3.419187 0.388901 0.516897\\nC 4.685354 0.027163 -0.033902\\nC 5.090597 -1.337515 -0.231702\\nC 6.322101 -1.650595 -0.775102\\nC 7.231548 -0.62416 -1.168542\\nC 6.893507 0.700228 -0.980804\\nC 5.634737 1.066596 -0.400967\\nC 5.301254 2.414236 -0.182356\\nC 4.099527 2.785255 0.44497\\nC 3.797858 4.162302 0.7078\\nC 2.639512 4.530253 1.36137\\nC 1.733371 3.523562 1.809632\\nC 1.982531 2.187504 1.555156\\nC 3.149704 1.754602 0.835774\\nC -2.089811 -0.256294 0.499792\\nC -3.250859 0.664659 0.191384\\nC -3.037433 2.054362 -0.053741\\nC -1.765194 2.70226 0.107497\\nC -1.587744 4.04747 -0.155735\\nC -2.678319 4.850134 -0.603629\\nC -3.928545 4.282923 -0.743374\\nC -4.152777 2.894803 -0.462706\\nC -5.435914 2.332896 -0.568449\\nC -5.682154 0.986501 -0.249752\\nC -7.008738 0.44706 -0.311709\\nC -7.258072 -0.867181 0.025322\\nC -6.183439 -1.704968 0.446506\\nC -4.88762 -1.227033 0.505019\\nC -4.575531 0.130966 0.151261\\nH 2.595533 -2.461759 -1.331664\\nH 1.45292 -1.654542 -2.445651\\nH 2.975332 -0.799138 -1.976111\\nH 0.524245 0.886426 0.087487\\nH 1.336754 0.976458 -1.480771\\nH -0.41347 -0.527224 -2.482175\\nH -1.156415 0.923723 -1.761284\\nH -2.949135 -2.374081 -0.978617\\nH -3.111599 -0.888466 -2.022202\\nH -1.846015 -2.140565 -2.363524\\nH 1.687726 -0.416004 1.565803\\nH 2.778149 -1.661616 0.985509\\nH 4.422285 -2.15494 0.071446\\nH 6.606782 -2.706313 -0.898824\\nH 8.203779 -0.893416 -1.607798\\nH 7.591054 1.504282 -1.262415\\nH 6.01006 3.199365 -0.490368\\nH 4.524878 4.923456 0.384438\\nH 2.424457 5.590532 1.561639\\nH 0.834524 3.810328 2.376406\\nH 1.283925 1.439981 1.956024\\nH -1.287977 0.271458 1.046973\\nH -2.397191 -1.093477 1.15144\\nH -0.905105 2.131172 0.476943\\nH -0.594582 4.49907 -0.00842\\nH -2.522571 5.917664 -0.819375\\nH -4.787571 4.891802 -1.065705\\nH -6.275353 2.969883 -0.89007\\nH -7.827099 1.112876 -0.626972\\nH -8.281164 -1.269568 -0.020912\\nH -6.385681 -2.748241 0.732183\\nH -4.093441 -1.912961 0.834319\\n\");\n\tviewer_17158668034707043.setStyle({\"stick\": {}, \"sphere\": {\"scale\": 0.25}});\n\tviewer_17158668034707043.zoomTo();\n\tviewer_17158668034707043.animate({\"loop\": \"forward\"});\nviewer_17158668034707043.render();\n});\n</script>",
      "text/html": [
       "<div id=\"3dmolviewer_17158668034707043\"  style=\"position: relative; width: 1000px; height: 500px;\">\n",
       "        <p id=\"3dmolwarning_17158668034707043\" style=\"background-color:#ffcccc;color:black\">3Dmol.js failed to load for some reason.  Please check your browser console for error messages.<br></p>\n",
       "        </div>\n",
       "<script>\n",
       "\n",
       "var loadScriptAsync = function(uri){\n",
       "  return new Promise((resolve, reject) => {\n",
       "    //this is to ignore the existence of requirejs amd\n",
       "    var savedexports, savedmodule;\n",
       "    if (typeof exports !== 'undefined') savedexports = exports;\n",
       "    else exports = {}\n",
       "    if (typeof module !== 'undefined') savedmodule = module;\n",
       "    else module = {}\n",
       "\n",
       "    var tag = document.createElement('script');\n",
       "    tag.src = uri;\n",
       "    tag.async = true;\n",
       "    tag.onload = () => {\n",
       "        exports = savedexports;\n",
       "        module = savedmodule;\n",
       "        resolve();\n",
       "    };\n",
       "  var firstScriptTag = document.getElementsByTagName('script')[0];\n",
       "  firstScriptTag.parentNode.insertBefore(tag, firstScriptTag);\n",
       "});\n",
       "};\n",
       "\n",
       "if(typeof $3Dmolpromise === 'undefined') {\n",
       "$3Dmolpromise = null;\n",
       "  $3Dmolpromise = loadScriptAsync('https://cdnjs.cloudflare.com/ajax/libs/3Dmol/2.1.0/3Dmol-min.js');\n",
       "}\n",
       "\n",
       "var viewer_17158668034707043 = null;\n",
       "var warn = document.getElementById(\"3dmolwarning_17158668034707043\");\n",
       "if(warn) {\n",
       "    warn.parentNode.removeChild(warn);\n",
       "}\n",
       "$3Dmolpromise.then(function() {\n",
       "viewer_17158668034707043 = $3Dmol.createViewer(document.getElementById(\"3dmolviewer_17158668034707043\"),{backgroundColor:\"white\"});\n",
       "viewer_17158668034707043.zoomTo();\n",
       "\tviewer_17158668034707043.addModel(\"71\\n\\nPd -0.038431 -2.313915 0.125027\\nCl -1.769487 -3.652364 0.891765\\nCl 1.590335 -3.808565 0.822093\\nC 2.174082 -1.483836 -1.625042\\nN 1.455732 -0.917053 -0.460872\\nC 0.711908 0.318064 -0.838186\\nC -0.598702 -0.008101 -1.521749\\nN -1.429483 -0.92699 -0.690343\\nC -2.406445 -1.616221 -1.567647\\nC 2.362455 -0.670463 0.729038\\nC 3.419187 0.388901 0.516897\\nC 4.685354 0.027163 -0.033902\\nC 5.090597 -1.337515 -0.231702\\nC 6.322101 -1.650595 -0.775102\\nC 7.231548 -0.62416 -1.168542\\nC 6.893507 0.700228 -0.980804\\nC 5.634737 1.066596 -0.400967\\nC 5.301254 2.414236 -0.182356\\nC 4.099527 2.785255 0.44497\\nC 3.797858 4.162302 0.7078\\nC 2.639512 4.530253 1.36137\\nC 1.733371 3.523562 1.809632\\nC 1.982531 2.187504 1.555156\\nC 3.149704 1.754602 0.835774\\nC -2.089811 -0.256294 0.499792\\nC -3.250859 0.664659 0.191384\\nC -3.037433 2.054362 -0.053741\\nC -1.765194 2.70226 0.107497\\nC -1.587744 4.04747 -0.155735\\nC -2.678319 4.850134 -0.603629\\nC -3.928545 4.282923 -0.743374\\nC -4.152777 2.894803 -0.462706\\nC -5.435914 2.332896 -0.568449\\nC -5.682154 0.986501 -0.249752\\nC -7.008738 0.44706 -0.311709\\nC -7.258072 -0.867181 0.025322\\nC -6.183439 -1.704968 0.446506\\nC -4.88762 -1.227033 0.505019\\nC -4.575531 0.130966 0.151261\\nH 2.595533 -2.461759 -1.331664\\nH 1.45292 -1.654542 -2.445651\\nH 2.975332 -0.799138 -1.976111\\nH 0.524245 0.886426 0.087487\\nH 1.336754 0.976458 -1.480771\\nH -0.41347 -0.527224 -2.482175\\nH -1.156415 0.923723 -1.761284\\nH -2.949135 -2.374081 -0.978617\\nH -3.111599 -0.888466 -2.022202\\nH -1.846015 -2.140565 -2.363524\\nH 1.687726 -0.416004 1.565803\\nH 2.778149 -1.661616 0.985509\\nH 4.422285 -2.15494 0.071446\\nH 6.606782 -2.706313 -0.898824\\nH 8.203779 -0.893416 -1.607798\\nH 7.591054 1.504282 -1.262415\\nH 6.01006 3.199365 -0.490368\\nH 4.524878 4.923456 0.384438\\nH 2.424457 5.590532 1.561639\\nH 0.834524 3.810328 2.376406\\nH 1.283925 1.439981 1.956024\\nH -1.287977 0.271458 1.046973\\nH -2.397191 -1.093477 1.15144\\nH -0.905105 2.131172 0.476943\\nH -0.594582 4.49907 -0.00842\\nH -2.522571 5.917664 -0.819375\\nH -4.787571 4.891802 -1.065705\\nH -6.275353 2.969883 -0.89007\\nH -7.827099 1.112876 -0.626972\\nH -8.281164 -1.269568 -0.020912\\nH -6.385681 -2.748241 0.732183\\nH -4.093441 -1.912961 0.834319\\n\");\n",
       "\tviewer_17158668034707043.setStyle({\"stick\": {}, \"sphere\": {\"scale\": 0.25}});\n",
       "\tviewer_17158668034707043.zoomTo();\n",
       "\tviewer_17158668034707043.animate({\"loop\": \"forward\"});\n",
       "viewer_17158668034707043.render();\n",
       "});\n",
       "</script>"
      ]
     },
     "metadata": {},
     "output_type": "display_data"
    }
   ],
   "source": [
    "def display_molecule_from_xyz(xyz_file):\n",
    "    with open(xyz_file, 'r') as f:\n",
    "        coordinates=''\n",
    "        lines=f.readlines()\n",
    "        for line in lines:\n",
    "                coordinates= coordinates + str(line)\n",
    "        viewer=py3Dmol.view(width=1000,height=500)\n",
    "        #viewer.setViewStyle({\"style\": \"outline\", \"width\": 0.01})\n",
    "        viewer.addModel(coordinates)\n",
    "        # visualize with the sticks and spheres\n",
    "        viewer.setStyle({\"stick\":{},\"sphere\": {\"scale\":0.25}})\n",
    "        #viewer.animate()\n",
    "\n",
    "        viewer.zoomTo()\n",
    "        viewer.animate({'loop': \"forward\"})\n",
    "        viewer.show()\n",
    "\n",
    "xyz_file='tmQMg_xyz\\ABAGAM.xyz'  \n",
    "display_molecule_from_xyz(xyz_file)"
   ]
  },
  {
   "cell_type": "markdown",
   "metadata": {},
   "source": [
    "Now that we know this works, we can implement it in the final product."
   ]
  },
  {
   "cell_type": "markdown",
   "metadata": {},
   "source": []
  }
 ],
 "metadata": {
  "kernelspec": {
   "display_name": "base",
   "language": "python",
   "name": "python3"
  },
  "language_info": {
   "codemirror_mode": {
    "name": "ipython",
    "version": 3
   },
   "file_extension": ".py",
   "mimetype": "text/x-python",
   "name": "python",
   "nbconvert_exporter": "python",
   "pygments_lexer": "ipython3",
   "version": "3.11.5"
  }
 },
 "nbformat": 4,
 "nbformat_minor": 2
}
