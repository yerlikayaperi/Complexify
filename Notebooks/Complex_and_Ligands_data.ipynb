{
 "cells": [
  {
   "cell_type": "markdown",
   "metadata": {},
   "source": [
    "# Creation of csv databases for complexes and ligands"
   ]
  },
  {
   "cell_type": "code",
   "execution_count": null,
   "metadata": {},
   "outputs": [],
   "source": [
    "import pandas as pd\n",
    "import numpy as np"
   ]
  },
  {
   "cell_type": "markdown",
   "metadata": {},
   "source": [
    "First, let us regroup all the raw data we want for our project. For the ligands, this corresponds to the ID, SMILES, stoichiometry, charge and number of atoms."
   ]
  },
  {
   "cell_type": "code",
   "execution_count": null,
   "metadata": {},
   "outputs": [],
   "source": [
    "#uploading the data we have in csv form\n",
    "df_ligands1 = pd.read_csv('../Raw_Data/ligands_fingerprints.csv',sep=';')\n",
    "df_ligands2= pd.read_csv('../Raw_Data/ligands_misc_info.csv',sep=';')\n",
    "\n",
    "#only keeping the desired columns in our csv\n",
    "df_ligands = pd.DataFrame()\n",
    "df_ligands['ID'] = df_ligands2['name']\n",
    "df_ligands['Smiles'] = df_ligands2['smiles']\n",
    "df_ligands['Stoichiometry'] = df_ligands2['stoichiometry']\n",
    "df_ligands['Charge'] = df_ligands1['charge']\n",
    "df_ligands['Nb atoms'] = df_ligands1['n_atoms']"
   ]
  },
  {
   "cell_type": "markdown",
   "metadata": {},
   "source": [
    "Now we move on to complexes. The information we have available are the id, charge, molecular mass, number of atoms and number of electrons."
   ]
  },
  {
   "cell_type": "code",
   "execution_count": null,
   "metadata": {},
   "outputs": [],
   "source": [
    "df_complex1 = pd.read_csv('../Raw_Data/tmQMg_properties_and_targets.csv', sep=',')\n",
    "df_complex= df_complex1.iloc[:, 0:5]"
   ]
  },
  {
   "cell_type": "markdown",
   "metadata": {},
   "source": [
    "We notice that the stoichiometry of the complexes is available in another file that has to be parsed differently due to the fact that it is originally in xyz form. It is first converted into csv, then operated upon."
   ]
  },
  {
   "cell_type": "code",
   "execution_count": null,
   "metadata": {},
   "outputs": [],
   "source": [
    "df_complexname= pd.read_csv('../Raw_Data/tmQM_X1.csv', sep='|')\n",
    "\n",
    "#after looking at the format of this dataframe, a function is written to extract the corresponding stoichiometry of a specific complex.\n",
    "l_complexname1= []\n",
    "for i in range(0,len(df_complexname)):\n",
    "    if 'CSD_code;=' in str(df_complexname.iloc[i]):\n",
    "        l_complexname1.append(str(df_complexname.iloc[i]))\n",
    "\n",
    "def idtostoi(list1):\n",
    "    '''\n",
    "    function that extracts the ID and corresponding stoichiometry of complex\n",
    "    input : list containing misc info of complex\n",
    "    output : dict with key = complex id and object = complex stoichiometry  \n",
    "    '''\n",
    "    dict1 = {} \n",
    "    for i in range(0,len(list1)):\n",
    "        if str(list1[i])[37]==' ':\n",
    "            id = str(list1[i])[38:44]\n",
    "        else:\n",
    "            id = str(list1[i])[37:43]\n",
    "        k=82\n",
    "        while str(list1[i])[k] != 'C':\n",
    "            k+=1\n",
    "        j=k\n",
    "        b=str()\n",
    "        while str(list1[i])[j] !=' ':\n",
    "            b+= str(list1[i])[j]\n",
    "            j+=1\n",
    "        dict1[f'{id}']=b\n",
    "    return dict1\n",
    "\n",
    "l_complexname2 = idtostoi(l_complexname1)"
   ]
  },
  {
   "cell_type": "code",
   "execution_count": null,
   "metadata": {},
   "outputs": [],
   "source": [
    "df_complex['Stoichiometry'] = [x for x in range(0,len(df_complex))] #creating a new column for the stoichiometry\n",
    "\n",
    "#adding the corresponding stoichiometry to a complex\n",
    "for j in range(0, len(df_complex)):\n",
    "    id = str(df_complex.iloc[j, 0])\n",
    "    if id in l_complexname2.keys():\n",
    "        df_complex['Stoichiometry'][j]= l_complexname2[id]"
   ]
  },
  {
   "cell_type": "markdown",
   "metadata": {},
   "source": [
    "This process is repeated a second time as the amount of complexes required the list to be separated into two files."
   ]
  },
  {
   "cell_type": "code",
   "execution_count": null,
   "metadata": {},
   "outputs": [],
   "source": [
    "df_complexname1= pd.read_csv('../Raw_Data/tmQM_X2.csv', sep='|')\n",
    "l_complexname3= []\n",
    "for i in range(0,len(df_complexname1)):\n",
    "    if 'CSD_code;=' in str(df_complexname1.iloc[i]):\n",
    "        l_complexname3.append(str(df_complexname1.iloc[i]))\n",
    "\n",
    "def idtostoi2(list1):\n",
    "    '''\n",
    "    function that extracts the ID and corresponding stoichiometry of complex\n",
    "    input : list containing misc info of complex\n",
    "    output : dict with key = complex id and object = complex stoichiometry \n",
    "    (modified to fit new database) \n",
    "    '''\n",
    "    dict1 = {} \n",
    "    for i in range(0,len(list1)):\n",
    "        if str(list1[i])[36]==' ':\n",
    "            id = str(list1[i])[37:43]\n",
    "        else:\n",
    "            id = str(list1[i])[36:42]\n",
    "        k=81\n",
    "        while str(list1[i])[k] != 'C':\n",
    "            k+=1\n",
    "        j=k\n",
    "        b=str()\n",
    "        while str(list1[i])[j] !=' ':\n",
    "            b+= str(list1[i])[j]\n",
    "            j+=1\n",
    "        dict1[f'{id}']=b\n",
    "    return dict1\n",
    "\n",
    "l_complexname4 = idtostoi2(l_complexname3)\n",
    "\n",
    "for j in range(0, len(df_complex)):\n",
    "    id = str(df_complex.iloc[j, 0])\n",
    "    if id in l_complexname4.keys():\n",
    "        df_complex['Stoichiometry'][j]= l_complexname4[id]"
   ]
  },
  {
   "cell_type": "markdown",
   "metadata": {},
   "source": [
    "Some values are missing. We will replace them with N/A. Not all the complexes are given in the tmQm_X.csv documents, thus it is normal for them to not appear in the final dataframe."
   ]
  },
  {
   "cell_type": "code",
   "execution_count": null,
   "metadata": {},
   "outputs": [],
   "source": [
    "for i in range(0, len(df_complex)):\n",
    "    if type(df_complex['Stoichiometry'][i]) == int:\n",
    "        df_complex['Stoichiometry'][i] = 'N/A'"
   ]
  },
  {
   "cell_type": "code",
   "execution_count": null,
   "metadata": {},
   "outputs": [],
   "source": [
    "j=0\n",
    "for i in range(0, len(df_complex)):\n",
    "    if df_complex[\"Stoichiometry\"][i]==\"N/A\":\n",
    "        j+=1\n",
    "print(j)"
   ]
  },
  {
   "cell_type": "markdown",
   "metadata": {},
   "source": [
    "We remember this number in order to later on verify that the same amount of complexes have missing information."
   ]
  },
  {
   "cell_type": "markdown",
   "metadata": {},
   "source": [
    "Now we want to show which metal appears in which complex."
   ]
  },
  {
   "cell_type": "code",
   "execution_count": null,
   "metadata": {},
   "outputs": [],
   "source": [
    "df_ligands1= pd.read_csv('../Raw_Data/ligands_misc_info.csv',sep=';')\n",
    "df_ligands1=df_ligands1[['name',\"parent_metal_occurrences\"]] \n",
    "\n",
    "metal_complex={}\n",
    "\"\"\"\n",
    "We want to make a dictionary where the keys are the metals and their respective values a list containing all complexes they appear in.\n",
    "\"\"\"\n",
    "for string in df_ligands1['parent_metal_occurrences']:\n",
    "    acceptable_string=string.replace(\"'\", \"\\\"\")\n",
    "    dico= json.loads(acceptable_string)\n",
    "    for k in list(dico.keys()):\n",
    "        metal_complex[f\"{k}\"] = []\n",
    "for string in df_ligands1['parent_metal_occurrences']:\n",
    "    acceptable_string=string.replace(\"'\", \"\\\"\")\n",
    "    dico= json.loads(acceptable_string)\n",
    "    for i, (k,o) in enumerate(dico.items()):\n",
    "        for j in o:\n",
    "            metal_complex[f\"{k}\"].append(j[:6])\n"
   ]
  },
  {
   "cell_type": "code",
   "execution_count": null,
   "metadata": {},
   "outputs": [],
   "source": [
    "df_complex[\"Metals\"] = list\n",
    "\"\"\"\n",
    "We make a new column in the dataframe to include the metals.\n",
    "\"\"\"\n",
    "for j in range(0, len(df_complex)):\n",
    "    temp= []\n",
    "    for i, (l, cl) in enumerate(metal_complex.items()):\n",
    "        for c in cl:\n",
    "            if df_complex['id'][j]==c:\n",
    "                temp.append(l)\n",
    "                break\n",
    "    df_complex[\"Metals\"][j]=temp\n"
   ]
  },
  {
   "cell_type": "code",
   "execution_count": null,
   "metadata": {},
   "outputs": [],
   "source": [
    "j=0\n",
    "for i in range(0, len(df_complex)):\n",
    "    if df_complex[\"Metals\"][i]==[]:\n",
    "        j+=1\n",
    "print(j)"
   ]
  },
  {
   "cell_type": "markdown",
   "metadata": {},
   "source": [
    "This gives the same number as the complexes without stoichiometry: we verified they are the same."
   ]
  },
  {
   "cell_type": "markdown",
   "metadata": {},
   "source": [
    "Now we are going to link the ligands to the complexes they appear in."
   ]
  },
  {
   "cell_type": "code",
   "execution_count": null,
   "metadata": {},
   "outputs": [],
   "source": [
    "tot_complex = [] #create a list of all complex names to iterate faster than a full dataframe\n",
    "for j, complex in enumerate(df_complex['id']):\n",
    "    tot_complex.append(complex)"
   ]
  },
  {
   "cell_type": "code",
   "execution_count": null,
   "metadata": {},
   "outputs": [],
   "source": [
    "df_complex[\"Ligands and number of occurance\"]=[{} for _ in range(len(df_complex))] #add dictionaries to the complex dataframe to indicate ligands appearing as keys and number of occurance as value\n",
    "df_ligands[\"Complex in which they appear and number of appearances\"]=[{} for _ in range(len(df_ligands))] #add dictionaries to the ligand dataframe to indicate the complex in which they appear as key and their number of occurance as value \n",
    "\n",
    "#we use vectorized operations for efficiency\n",
    "\n",
    "#first completing the ligand dataframe\n",
    "for complex in tot_complex:\n",
    "    mask=df_ligands1['parent_metal_occurrences'].str.contains(complex)\n",
    "    counts=df_ligands1.loc[mask,\"parent_metal_occurrences\"].str.count(complex)\n",
    "    df_ligands.loc[mask,\"Complex in which they appear and number of appearances\"]=df_ligands.loc[mask,\"Complex in which they appear and number of appearances\"].apply(lambda x:{**x, f\"{complex}\":counts.iloc[0]})\n",
    "\n",
    "#then completing the complex dataframe\n",
    "for i, complex in enumerate(df_complex['id']):\n",
    "    for j, ligand_dico in enumerate(df_ligands['Complex in which they appear and number of appearances']):\n",
    "        if complex in ligand_dico.keys():\n",
    "            df_complex[\"Ligands and number of occurance\"][i][f'{df_ligands.iloc[j,1]}']=ligand_dico[complex]"
   ]
  },
  {
   "cell_type": "code",
   "execution_count": null,
   "metadata": {},
   "outputs": [],
   "source": [
    "j=0\n",
    "for i in range(0, len(df_complex)):\n",
    "    if df_complex[\"Ligands and number of occurance\"][i]=={}:\n",
    "        j+=1\n",
    "print(j)"
   ]
  },
  {
   "cell_type": "markdown",
   "metadata": {},
   "source": [
    "Verify the name number of information is missing. Still normal."
   ]
  },
  {
   "cell_type": "code",
   "execution_count": null,
   "metadata": {},
   "outputs": [],
   "source": [
    "#Saving our dataframes in csv form.\n",
    "pd.DataFrame.to_csv(df_ligands, '../Created_Data/Ligands_info.csv') \n",
    "pd.DataFrame.to_csv(df_complex, '../Created_Data/Complex_info.csv') "
   ]
  }
 ],
 "metadata": {
  "language_info": {
   "name": "python"
  }
 },
 "nbformat": 4,
 "nbformat_minor": 2
}
